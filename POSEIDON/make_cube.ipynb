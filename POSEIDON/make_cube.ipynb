{
 "cells": [
  {
   "cell_type": "code",
   "execution_count": 1,
   "metadata": {},
   "outputs": [],
   "source": [
    "import matplotlib as mpl\n",
    "from matplotlib.pyplot import *\n",
    "#from fm import *\n",
    "import time\n",
    "import pickle\n",
    "from scipy import constants\n",
    "import numpy as np\n",
    "from matplotlib.pyplot import cm\n",
    "import pdb\n",
    "from numba import jit\n",
    "import math\n",
    "import numpy as np\n",
    "import scipy as sp\n",
    "from array import *\n",
    "from scipy import interpolate\n",
    "from scipy import special\n",
    "from scipy import interp\n",
    "from scipy import ndimage\n",
    "from astropy.io import fits\n",
    "import pdb\n",
    "import datetime\n",
    "from matplotlib import rcParams\n",
    "rcParams['font.family'] = 'sans-serif'\n",
    "import matplotlib.pyplot as plt"
   ]
  },
  {
   "cell_type": "code",
   "execution_count": 2,
   "metadata": {},
   "outputs": [
    {
     "ename": "FileNotFoundError",
     "evalue": "[Errno 2] Unable to open file (unable to open file: name = './reference_data/observations/WASP-121b/MyFinalExt_WASP-121_t1_2016-12-26.h5', errno = 2, error message = 'No such file or directory', flags = 0, o_flags = 0)",
     "output_type": "error",
     "traceback": [
      "\u001b[0;31m---------------------------------------------------------------------------\u001b[0m",
      "\u001b[0;31mFileNotFoundError\u001b[0m                         Traceback (most recent call last)",
      "Cell \u001b[0;32mIn[2], line 11\u001b[0m\n\u001b[1;32m      9\u001b[0m \u001b[39mimport\u001b[39;00m \u001b[39mh5py\u001b[39;00m\n\u001b[1;32m     10\u001b[0m \u001b[39mimport\u001b[39;00m \u001b[39mnumpy\u001b[39;00m \u001b[39mas\u001b[39;00m \u001b[39mnp\u001b[39;00m\n\u001b[0;32m---> 11\u001b[0m \u001b[39mwith\u001b[39;00m h5py\u001b[39m.\u001b[39;49mFile(data_dir\u001b[39m+\u001b[39;49m\u001b[39m'\u001b[39;49m\u001b[39m/MyFinalExt_WASP-121_t1_2016-12-26.h5\u001b[39;49m\u001b[39m'\u001b[39;49m, \u001b[39m'\u001b[39;49m\u001b[39mr\u001b[39;49m\u001b[39m'\u001b[39;49m) \u001b[39mas\u001b[39;00m F:\n\u001b[1;32m     12\u001b[0m     \u001b[39m# Note that doppler.Eldin_AirToVacuum converts from air to vacuum wavelength - let me know if you want the code.\u001b[39;00m\n\u001b[1;32m     13\u001b[0m     wl_grid \u001b[39m=\u001b[39m airtovac(F[\u001b[39m'\u001b[39m\u001b[39mblaze/blue/wl\u001b[39m\u001b[39m'\u001b[39m][:])\n",
      "File \u001b[0;32m~/.conda/envs/poseidon/lib/python3.9/site-packages/h5py/_hl/files.py:533\u001b[0m, in \u001b[0;36mFile.__init__\u001b[0;34m(self, name, mode, driver, libver, userblock_size, swmr, rdcc_nslots, rdcc_nbytes, rdcc_w0, track_order, fs_strategy, fs_persist, fs_threshold, fs_page_size, page_buf_size, min_meta_keep, min_raw_keep, locking, alignment_threshold, alignment_interval, **kwds)\u001b[0m\n\u001b[1;32m    525\u001b[0m     fapl \u001b[39m=\u001b[39m make_fapl(driver, libver, rdcc_nslots, rdcc_nbytes, rdcc_w0,\n\u001b[1;32m    526\u001b[0m                      locking, page_buf_size, min_meta_keep, min_raw_keep,\n\u001b[1;32m    527\u001b[0m                      alignment_threshold\u001b[39m=\u001b[39malignment_threshold,\n\u001b[1;32m    528\u001b[0m                      alignment_interval\u001b[39m=\u001b[39malignment_interval,\n\u001b[1;32m    529\u001b[0m                      \u001b[39m*\u001b[39m\u001b[39m*\u001b[39mkwds)\n\u001b[1;32m    530\u001b[0m     fcpl \u001b[39m=\u001b[39m make_fcpl(track_order\u001b[39m=\u001b[39mtrack_order, fs_strategy\u001b[39m=\u001b[39mfs_strategy,\n\u001b[1;32m    531\u001b[0m                      fs_persist\u001b[39m=\u001b[39mfs_persist, fs_threshold\u001b[39m=\u001b[39mfs_threshold,\n\u001b[1;32m    532\u001b[0m                      fs_page_size\u001b[39m=\u001b[39mfs_page_size)\n\u001b[0;32m--> 533\u001b[0m     fid \u001b[39m=\u001b[39m make_fid(name, mode, userblock_size, fapl, fcpl, swmr\u001b[39m=\u001b[39;49mswmr)\n\u001b[1;32m    535\u001b[0m \u001b[39mif\u001b[39;00m \u001b[39misinstance\u001b[39m(libver, \u001b[39mtuple\u001b[39m):\n\u001b[1;32m    536\u001b[0m     \u001b[39mself\u001b[39m\u001b[39m.\u001b[39m_libver \u001b[39m=\u001b[39m libver\n",
      "File \u001b[0;32m~/.conda/envs/poseidon/lib/python3.9/site-packages/h5py/_hl/files.py:226\u001b[0m, in \u001b[0;36mmake_fid\u001b[0;34m(name, mode, userblock_size, fapl, fcpl, swmr)\u001b[0m\n\u001b[1;32m    224\u001b[0m     \u001b[39mif\u001b[39;00m swmr \u001b[39mand\u001b[39;00m swmr_support:\n\u001b[1;32m    225\u001b[0m         flags \u001b[39m|\u001b[39m\u001b[39m=\u001b[39m h5f\u001b[39m.\u001b[39mACC_SWMR_READ\n\u001b[0;32m--> 226\u001b[0m     fid \u001b[39m=\u001b[39m h5f\u001b[39m.\u001b[39;49mopen(name, flags, fapl\u001b[39m=\u001b[39;49mfapl)\n\u001b[1;32m    227\u001b[0m \u001b[39melif\u001b[39;00m mode \u001b[39m==\u001b[39m \u001b[39m'\u001b[39m\u001b[39mr+\u001b[39m\u001b[39m'\u001b[39m:\n\u001b[1;32m    228\u001b[0m     fid \u001b[39m=\u001b[39m h5f\u001b[39m.\u001b[39mopen(name, h5f\u001b[39m.\u001b[39mACC_RDWR, fapl\u001b[39m=\u001b[39mfapl)\n",
      "File \u001b[0;32mh5py/_objects.pyx:54\u001b[0m, in \u001b[0;36mh5py._objects.with_phil.wrapper\u001b[0;34m()\u001b[0m\n",
      "File \u001b[0;32mh5py/_objects.pyx:55\u001b[0m, in \u001b[0;36mh5py._objects.with_phil.wrapper\u001b[0;34m()\u001b[0m\n",
      "File \u001b[0;32mh5py/h5f.pyx:106\u001b[0m, in \u001b[0;36mh5py.h5f.open\u001b[0;34m()\u001b[0m\n",
      "\u001b[0;31mFileNotFoundError\u001b[0m: [Errno 2] Unable to open file (unable to open file: name = './reference_data/observations/WASP-121b/MyFinalExt_WASP-121_t1_2016-12-26.h5', errno = 2, error message = 'No such file or directory', flags = 0, o_flags = 0)"
     ]
    }
   ],
   "source": [
    "def airtovac(wlnm):\n",
    "    #Convert wavelengths (nm) in air to wavelengths in vaccuum (empirical).\n",
    "    wlA = wlnm*10.0\n",
    "    s = 1e4 / wlA\n",
    "    n = 1 + (0.00008336624212083 + 0.02408926869968 / (130.1065924522 - s**2) +\n",
    "    0.0001599740894897 / (38.92568793293 - s**2))\n",
    "    return wlA * n / 10.0\n",
    "data_dir = './reference_data/observations/WASP-121b'\n",
    "import h5py\n",
    "import numpy as np\n",
    "with h5py.File(data_dir+'/MyFinalExt_WASP-121_t1_2016-12-26.h5', 'r') as F:\n",
    "    # Note that doppler.Eldin_AirToVacuum converts from air to vacuum wavelength - let me know if you want the code.\n",
    "    wl_grid = airtovac(F['blaze/blue/wl'][:])"
   ]
  },
  {
   "cell_type": "code",
   "execution_count": 2,
   "metadata": {},
   "outputs": [],
   "source": [
    "data_dir = './reference_data/observations/WASP-121b'\n",
    "al = np.load(data_dir+'/aligned_C_arrays.npz')\n",
    "wl_grid, _ = pickle.load(open(data_dir+'/PCA_matrix.pic', 'rb'))\n",
    "data, Ce = al['aligned/blue/C'], al['aligned/blue/Ce'] # etc, replace blue with redl/redu\n",
    "Ndet, Nphi, Npix = data.shape #yup, this again--Norders x Nphases x Npixels"
   ]
  },
  {
   "cell_type": "code",
   "execution_count": 3,
   "metadata": {},
   "outputs": [],
   "source": [
    "data_norm = np.zeros(data.shape)\n",
    "for i in range(len(data)):\n",
    "    order = data[i]\n",
    "    order_norm = (order.T / np.median(order, axis=1)).T\n",
    "    data_norm[i] = order_norm\n",
    "data = data_norm"
   ]
  },
  {
   "cell_type": "code",
   "execution_count": 4,
   "metadata": {},
   "outputs": [],
   "source": [
    "#SVD/PCA method-----------------------------------\n",
    "\n",
    "data_arr1=np.zeros(data.shape)\n",
    "data_arr=np.zeros(data.shape)\n",
    "\n",
    "NPC=4 #change the \"4\" to whatever. This is the number of PC's to remove\n",
    "\n",
    "for i in range(Ndet):\n",
    "    #taking only first four vectors, reconstructiong, and saving\n",
    "    u,s,vh=np.linalg.svd(data[i,],full_matrices=False)  #decompose\n",
    "    s[NPC:]=0.  \n",
    "    W=np.diag(s)\n",
    "    A=np.dot(u,np.dot(W,vh))\n",
    "    data_arr1[i,]=A\n",
    "\n",
    "    #removing first four vectors...this is the 'processesed data'\n",
    "    u,s,vh=np.linalg.svd(data[i,],full_matrices=False)  #decompose--not sure why I did it again....guess you don't really need this line\n",
    "    s[0:NPC]=0.\n",
    "    W=np.diag(s)\n",
    "    A=np.dot(u,np.dot(W,vh))\n",
    "    #sigma clipping sort of--it really doesn't make a yuge difference.\n",
    "    #'''\n",
    "    sig=np.std(A)\n",
    "    med=np.median(A)\n",
    "    loc=np.where(A > 3.*sig+med)\n",
    "    A[loc]=0#*0.+20*sig\n",
    "    loc=np.where(A < -3.*sig+med)\n",
    "    A[loc]=0#*0.+20*sig\n",
    "    \n",
    "    data_arr[i,]=A"
   ]
  },
  {
   "cell_type": "code",
   "execution_count": 5,
   "metadata": {},
   "outputs": [],
   "source": [
    "#saving pickles--these are used in the retrieval/log-likelihood/CCF analysis\n",
    "pickle.dump([wl_grid,data_arr1],open(data_dir+'/data_to_scale_with.pic','wb')) #this is all the telluric crud you removed. Will be used for model injection\n",
    "pickle.dump([wl_grid,data_arr],open(data_dir+'/PCA_matrix.pic','wb'))  #this is the \"PCA'd\" cube. It just looks like noise. The planet is in there somewhere...; wavelength might need /1000 if in A"
   ]
  },
  {
   "cell_type": "code",
   "execution_count": 6,
   "metadata": {},
   "outputs": [],
   "source": [
    "import dill\n",
    "pl_dat = dill.load(open('{}/planet_info_py3.dill'.format(data_dir),'rb'))\n",
    "p_vel1 = pl_dat['p_vel1']   # planet velocity for transit 1 (transit 2 exists but is low quality)\n",
    "tmodel1 = pl_dat['tmodel1'] # transit model, used for weighting\n",
    "bv1 = pl_dat['bv1']         # barycentric correction\n",
    "ph1 = pl_dat['ph1']         # orbital phase\n",
    "bv1=bv1/1000\n",
    "ph1=ph1/1000\n",
    "\n",
    "pickle.dump(bv1, open(data_dir+'/rvel.pic','wb'))  #the Vbary+Vsys now saved as one happy array pickle\n",
    "pickle.dump(ph1, open(data_dir+'/ph.pic','wb'))  #the Vbary+Vsys now saved as one happy array pickle"
   ]
  },
  {
   "cell_type": "code",
   "execution_count": 3,
   "metadata": {},
   "outputs": [
    {
     "name": "stdout",
     "output_type": "stream",
     "text": [
      "(44, 79, 1848)\n"
     ]
    }
   ],
   "source": [
    "from POSEIDON.high_res import make_data_cube\n",
    "data_dir = './reference_data/observations/WASP-77Ab_injection_test'\n",
    "wl_grid, data = pickle.load(open(data_dir+'/data_RAW.pic', 'rb'))\n",
    "print(data.shape)\n",
    "data_scale, data_arr = make_data_cube(data, wl_grid)\n",
    "\n",
    "#saving pickles--these are used in the retrieval/log-likelihood/CCF analysis\n",
    "pickle.dump([wl_grid, data_scale],open(data_dir+'/data_to_scale_with.pic','wb')) #this is all the telluric crud you removed. Will be used for model injection\n",
    "pickle.dump([wl_grid, data_arr],open(data_dir+'/PCA_matrix.pic','wb'))  #this is the \"PCA'd\" cube. It just looks like noise. The planet is in there somewhere...; wavelength might need /1000 if in A"
   ]
  },
  {
   "cell_type": "code",
   "execution_count": null,
   "metadata": {},
   "outputs": [],
   "source": []
  }
 ],
 "metadata": {
  "kernelspec": {
   "display_name": "poseidon",
   "language": "python",
   "name": "python3"
  },
  "language_info": {
   "codemirror_mode": {
    "name": "ipython",
    "version": 3
   },
   "file_extension": ".py",
   "mimetype": "text/x-python",
   "name": "python",
   "nbconvert_exporter": "python",
   "pygments_lexer": "ipython3",
   "version": "3.9.15"
  },
  "orig_nbformat": 4,
  "vscode": {
   "interpreter": {
    "hash": "30fbb393e27bf01d5c79c3ae8fb066eb4d83fa1fc89ca9b3bd8ed8f6761ffd51"
   }
  }
 },
 "nbformat": 4,
 "nbformat_minor": 2
}
