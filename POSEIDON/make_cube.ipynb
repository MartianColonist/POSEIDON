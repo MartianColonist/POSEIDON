{
 "cells": [
  {
   "cell_type": "code",
   "execution_count": 1,
   "metadata": {},
   "outputs": [],
   "source": [
    "import matplotlib as mpl\n",
    "from matplotlib.pyplot import *\n",
    "#from fm import *\n",
    "import time\n",
    "import pickle\n",
    "from scipy import constants\n",
    "import numpy as np\n",
    "from matplotlib.pyplot import cm\n",
    "import pdb\n",
    "from numba import jit\n",
    "import math\n",
    "import numpy as np\n",
    "import scipy as sp\n",
    "from array import *\n",
    "from scipy import interpolate\n",
    "from scipy import special\n",
    "from scipy import interp\n",
    "from scipy import ndimage\n",
    "from astropy.io import fits\n",
    "import pdb\n",
    "import datetime\n",
    "from matplotlib import rcParams\n",
    "rcParams['font.family'] = 'sans-serif'\n",
    "import matplotlib.pyplot as plt"
   ]
  },
  {
   "cell_type": "code",
   "execution_count": null,
   "metadata": {},
   "outputs": [],
   "source": [
    "def airtovac(wlnm):\n",
    "    #Convert wavelengths (nm) in air to wavelengths in vaccuum (empirical).\n",
    "    wlA = wlnm*10.0\n",
    "    s = 1e4 / wlA\n",
    "    n = 1 + (0.00008336624212083 + 0.02408926869968 / (130.1065924522 - s**2) +\n",
    "    0.0001599740894897 / (38.92568793293 - s**2))\n",
    "    return wlA * n / 10.0\n",
    "data_dir = './reference_data/observations/WASP-121b'\n",
    "import h5py\n",
    "import numpy as np\n",
    "with h5py.File(data_dir+'/MyFinalExt_WASP-121_t1_2016-12-26.h5', 'r') as F:\n",
    "    # Note that doppler.Eldin_AirToVacuum converts from air to vacuum wavelength - let me know if you want the code.\n",
    "    wl_grid = airtovac(F['blaze/blue/wl'][:])"
   ]
  },
  {
   "cell_type": "code",
   "execution_count": 2,
   "metadata": {},
   "outputs": [],
   "source": [
    "data_dir = './reference_data/observations/WASP-121b'\n",
    "al = np.load(data_dir+'/aligned_C_arrays.npz')\n",
    "wl_grid, _ = pickle.load(open(data_dir+'/PCA_matrix.pic', 'rb'))\n",
    "data, Ce = al['aligned/blue/C'], al['aligned/blue/Ce'] # etc, replace blue with redl/redu\n",
    "Ndet, Nphi, Npix = data.shape #yup, this again--Norders x Nphases x Npixels"
   ]
  },
  {
   "cell_type": "code",
   "execution_count": 3,
   "metadata": {},
   "outputs": [],
   "source": [
    "data_norm = np.zeros(data.shape)\n",
    "for i in range(len(data)):\n",
    "    order = data[i]\n",
    "    order_norm = (order.T / np.median(order, axis=1)).T\n",
    "    data_norm[i] = order_norm\n",
    "data = data_norm"
   ]
  },
  {
   "cell_type": "code",
   "execution_count": 4,
   "metadata": {},
   "outputs": [],
   "source": [
    "#SVD/PCA method-----------------------------------\n",
    "\n",
    "data_arr1=np.zeros(data.shape)\n",
    "data_arr=np.zeros(data.shape)\n",
    "\n",
    "NPC=4 #change the \"4\" to whatever. This is the number of PC's to remove\n",
    "\n",
    "for i in range(Ndet):\n",
    "    #taking only first four vectors, reconstructiong, and saving\n",
    "    u,s,vh=np.linalg.svd(data[i,],full_matrices=False)  #decompose\n",
    "    s[NPC:]=0.  \n",
    "    W=np.diag(s)\n",
    "    A=np.dot(u,np.dot(W,vh))\n",
    "    data_arr1[i,]=A\n",
    "\n",
    "    #removing first four vectors...this is the 'processesed data'\n",
    "    u,s,vh=np.linalg.svd(data[i,],full_matrices=False)  #decompose--not sure why I did it again....guess you don't really need this line\n",
    "    s[0:NPC]=0.\n",
    "    W=np.diag(s)\n",
    "    A=np.dot(u,np.dot(W,vh))\n",
    "    #sigma clipping sort of--it really doesn't make a yuge difference.\n",
    "    #'''\n",
    "    sig=np.std(A)\n",
    "    med=np.median(A)\n",
    "    loc=np.where(A > 3.*sig+med)\n",
    "    A[loc]=0#*0.+20*sig\n",
    "    loc=np.where(A < -3.*sig+med)\n",
    "    A[loc]=0#*0.+20*sig\n",
    "    \n",
    "    data_arr[i,]=A"
   ]
  },
  {
   "cell_type": "code",
   "execution_count": 6,
   "metadata": {},
   "outputs": [
    {
     "data": {
      "text/plain": [
       "array([[[ 1.80163596e-03,  2.23894399e-02,  1.00706441e-01, ...,\n",
       "          1.03455525e-01,  1.03455525e-01,  1.03455525e-01],\n",
       "        [-2.12497688e-01, -9.82518556e-02, -2.99155644e-02, ...,\n",
       "          6.70764413e-02,  6.70764413e-02,  6.70764413e-02],\n",
       "        [ 2.54399556e-02, -4.65742974e-02,  1.58587165e-02, ...,\n",
       "         -2.78563196e-02, -2.78563196e-02, -2.78563196e-02],\n",
       "        ...,\n",
       "        [-2.65572385e-04, -5.80018945e-02,  9.83785865e-05, ...,\n",
       "         -1.32834207e-01, -1.32834207e-01, -1.32834207e-01],\n",
       "        [ 2.02747173e-01, -4.89090488e-02, -7.29062364e-02, ...,\n",
       "          3.82394163e-02,  3.82394163e-02,  3.82394163e-02],\n",
       "        [-1.79904890e-01, -6.28879345e-02,  6.29366374e-02, ...,\n",
       "          4.97966338e-02,  4.97966338e-02,  4.97966338e-02]],\n",
       "\n",
       "       [[ 2.14414297e-01,  5.32662754e-02,  1.80247483e-02, ...,\n",
       "         -3.93545168e-02, -3.93545168e-02, -3.93545168e-02],\n",
       "        [-2.79457248e-02, -1.48999802e-01, -9.98594810e-02, ...,\n",
       "          6.25194609e-03,  6.25194609e-03,  6.25194609e-03],\n",
       "        [-6.05921237e-03, -2.59374411e-02, -5.23631300e-02, ...,\n",
       "          1.18643433e-01,  1.18643433e-01,  1.18643433e-01],\n",
       "        ...,\n",
       "        [ 6.81658123e-02,  9.50263976e-03, -8.28299479e-02, ...,\n",
       "         -7.14590773e-02, -7.14590773e-02, -7.14590773e-02],\n",
       "        [ 0.00000000e+00, -7.51935618e-02, -4.01710624e-02, ...,\n",
       "         -1.27586113e-01, -1.27586113e-01, -1.27586113e-01],\n",
       "        [-1.12133374e-02, -1.23665162e-01, -9.49117918e-02, ...,\n",
       "          1.07901865e-01,  1.07901865e-01,  1.07901865e-01]],\n",
       "\n",
       "       [[-4.78648265e-02,  1.86089201e-01,  1.58111922e-01, ...,\n",
       "         -3.58049663e-02, -3.58049663e-02, -3.58049663e-02],\n",
       "        [-9.49553614e-02, -1.21445686e-01, -4.62564773e-02, ...,\n",
       "          1.08815382e-01,  1.08815382e-01,  1.08815382e-01],\n",
       "        [-5.90598975e-02,  2.03689812e-02,  1.30020275e-01, ...,\n",
       "          2.08232749e-02,  2.08232749e-02,  2.08232749e-02],\n",
       "        ...,\n",
       "        [-1.89736454e-01, -8.17101926e-02,  3.58362242e-02, ...,\n",
       "          1.40387198e-02,  1.40387198e-02,  1.40387198e-02],\n",
       "        [ 1.03775328e-01, -1.23665698e-01, -7.30847319e-02, ...,\n",
       "         -1.80916286e-01, -1.80916286e-01, -1.80916286e-01],\n",
       "        [-5.68570052e-03, -6.92394226e-02, -9.68083834e-02, ...,\n",
       "          1.50215487e-01,  1.50215487e-01,  1.50215487e-01]],\n",
       "\n",
       "       ...,\n",
       "\n",
       "       [[ 2.01566197e-02,  9.89713619e-03, -1.25772777e-02, ...,\n",
       "         -2.41165687e-03, -2.41165687e-03, -2.41165687e-03],\n",
       "        [-1.29195338e-03,  1.12825200e-02,  9.29063231e-03, ...,\n",
       "          7.43027626e-03,  7.43027626e-03,  7.43027626e-03],\n",
       "        [ 3.78857936e-02,  2.34014666e-02,  3.08884578e-03, ...,\n",
       "          2.14221964e-02,  2.14221964e-02,  2.14221964e-02],\n",
       "        ...,\n",
       "        [-3.90922119e-02,  1.67134212e-03,  2.86675918e-03, ...,\n",
       "         -2.68630786e-02, -2.68630786e-02, -2.68630786e-02],\n",
       "        [ 3.70998186e-02,  7.42255538e-03, -4.29137738e-02, ...,\n",
       "         -2.30385622e-02, -2.30385622e-02, -2.30385622e-02],\n",
       "        [-2.32471691e-03,  2.66465406e-02,  3.40721145e-03, ...,\n",
       "         -3.67646212e-03, -3.67646212e-03, -3.67646212e-03]],\n",
       "\n",
       "       [[-2.72012457e-03, -3.17671002e-02,  1.93662291e-02, ...,\n",
       "         -6.81350716e-03, -6.81350716e-03, -6.81350716e-03],\n",
       "        [ 1.61096440e-03,  8.22605901e-03,  2.36657540e-02, ...,\n",
       "          1.63196495e-02,  1.63196495e-02,  1.63196495e-02],\n",
       "        [-3.27786679e-02,  5.30141719e-03,  4.85298189e-02, ...,\n",
       "          9.76504630e-04,  9.76504630e-04,  9.76504630e-04],\n",
       "        ...,\n",
       "        [-1.39231808e-02, -1.87086537e-02, -1.85074790e-02, ...,\n",
       "         -1.73975055e-02, -1.73975055e-02, -1.73975055e-02],\n",
       "        [-2.23052803e-03,  8.88879222e-04,  2.23618771e-02, ...,\n",
       "         -2.01014297e-02, -2.01014297e-02, -2.01014297e-02],\n",
       "        [ 8.94284460e-03,  2.34153260e-02, -3.77957224e-02, ...,\n",
       "          7.04350064e-03,  7.04350064e-03,  7.04350064e-03]],\n",
       "\n",
       "       [[-2.42075737e-02,  1.79108974e-02,  4.25288775e-02, ...,\n",
       "          0.00000000e+00,  0.00000000e+00,  0.00000000e+00],\n",
       "        [-1.65612274e-02, -2.89382112e-02, -3.57707611e-02, ...,\n",
       "          0.00000000e+00,  0.00000000e+00,  0.00000000e+00],\n",
       "        [ 7.00834470e-03, -2.49089121e-02, -1.19208998e-02, ...,\n",
       "          0.00000000e+00,  0.00000000e+00,  0.00000000e+00],\n",
       "        ...,\n",
       "        [-4.42720130e-02, -3.58651453e-02, -3.57976348e-02, ...,\n",
       "          0.00000000e+00,  0.00000000e+00,  0.00000000e+00],\n",
       "        [ 4.46626982e-03, -1.06926107e-02, -5.12554218e-03, ...,\n",
       "          0.00000000e+00,  0.00000000e+00,  0.00000000e+00],\n",
       "        [-2.61841753e-03, -8.86975735e-03,  1.12436653e-02, ...,\n",
       "          0.00000000e+00,  0.00000000e+00,  0.00000000e+00]]])"
      ]
     },
     "execution_count": 6,
     "metadata": {},
     "output_type": "execute_result"
    }
   ],
   "source": [
    "data_arr"
   ]
  },
  {
   "cell_type": "code",
   "execution_count": 5,
   "metadata": {},
   "outputs": [],
   "source": [
    "#saving pickles--these are used in the retrieval/log-likelihood/CCF analysis\n",
    "pickle.dump([wl_grid,data_arr1],open(data_dir+'/data_to_scale_with.pic','wb')) #this is all the telluric crud you removed. Will be used for model injection\n",
    "pickle.dump([wl_grid,data_arr],open(data_dir+'/PCA_matrix.pic','wb'))  #this is the \"PCA'd\" cube. It just looks like noise. The planet is in there somewhere...; wavelength might need /1000 if in A"
   ]
  },
  {
   "cell_type": "code",
   "execution_count": 6,
   "metadata": {},
   "outputs": [],
   "source": [
    "import dill\n",
    "pl_dat = dill.load(open('{}/planet_info_py3.dill'.format(data_dir),'rb'))\n",
    "p_vel1 = pl_dat['p_vel1']   # planet velocity for transit 1 (transit 2 exists but is low quality)\n",
    "tmodel1 = pl_dat['tmodel1'] # transit model, used for weighting\n",
    "bv1 = pl_dat['bv1']         # barycentric correction\n",
    "ph1 = pl_dat['ph1']         # orbital phase\n",
    "\n",
    "\n",
    "pickle.dump(bv1, open(data_dir+'/rvel.pic','wb'))  #the Vbary+Vsys now saved as one happy array pickle\n",
    "pickle.dump(ph1, open(data_dir+'/ph.pic','wb'))  #the Vbary+Vsys now saved as one happy array pickle"
   ]
  },
  {
   "cell_type": "code",
   "execution_count": null,
   "metadata": {},
   "outputs": [],
   "source": []
  }
 ],
 "metadata": {
  "kernelspec": {
   "display_name": "poseidon",
   "language": "python",
   "name": "python3"
  },
  "language_info": {
   "codemirror_mode": {
    "name": "ipython",
    "version": 3
   },
   "file_extension": ".py",
   "mimetype": "text/x-python",
   "name": "python",
   "nbconvert_exporter": "python",
   "pygments_lexer": "ipython3",
   "version": "3.9.15"
  },
  "orig_nbformat": 4,
  "vscode": {
   "interpreter": {
    "hash": "30fbb393e27bf01d5c79c3ae8fb066eb4d83fa1fc89ca9b3bd8ed8f6761ffd51"
   }
  }
 },
 "nbformat": 4,
 "nbformat_minor": 2
}
