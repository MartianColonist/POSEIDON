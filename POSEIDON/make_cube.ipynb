{
 "cells": [
  {
   "cell_type": "code",
   "execution_count": 4,
   "metadata": {},
   "outputs": [],
   "source": [
    "import matplotlib as mpl\n",
    "from matplotlib.pyplot import *\n",
    "#from fm import *\n",
    "import time\n",
    "import pickle\n",
    "from scipy import constants\n",
    "import numpy as np\n",
    "from matplotlib.pyplot import cm\n",
    "import pdb\n",
    "from numba import jit\n",
    "import math\n",
    "import numpy as np\n",
    "import scipy as sp\n",
    "from array import *\n",
    "from scipy import interpolate\n",
    "from scipy import special\n",
    "from scipy import interp\n",
    "from scipy import ndimage\n",
    "from astropy.io import fits\n",
    "import pdb\n",
    "import datetime\n",
    "from matplotlib import rcParams\n",
    "rcParams['font.family'] = 'sans-serif'\n",
    "import matplotlib.pyplot as plt"
   ]
  },
  {
   "cell_type": "code",
   "execution_count": 3,
   "metadata": {},
   "outputs": [],
   "source": [
    "def airtovac(wlnm):\n",
    "    #Convert wavelengths (nm) in air to wavelengths in vaccuum (empirical).\n",
    "    wlA = wlnm*10.0\n",
    "    s = 1e4 / wlA\n",
    "    n = 1 + (0.00008336624212083 + 0.02408926869968 / (130.1065924522 - s**2) +\n",
    "    0.0001599740894897 / (38.92568793293 - s**2))\n",
    "    return wlA * n / 10.0\n",
    "data_dir = './reference_data/observations/WASP-121b'\n",
    "import h5py\n",
    "import numpy as np\n",
    "with h5py.File(data_dir+'/MyFinalExt_WASP-121_t1_2016-12-26.h5', 'r') as F:\n",
    "    # Note that doppler.Eldin_AirToVacuum converts from air to vacuum wavelength - let me know if you want the code.\n",
    "    wl_grid = airtovac(F['blaze/blue/wl'][:])"
   ]
  },
  {
   "cell_type": "code",
   "execution_count": 2,
   "metadata": {},
   "outputs": [],
   "source": [
    "data_dir = './reference_data/observations/WASP-121b'\n",
    "al = np.load(data_dir+'/aligned_C_arrays.npz')\n",
    "wl_grid, _ = pickle.load(open(data_dir+'/PCA_matrix.pic', 'rb'))\n",
    "data, Ce = al['aligned/blue/C'], al['aligned/blue/Ce'] # etc, replace blue with redl/redu\n",
    "Ndet, Nphi, Npix = data.shape #yup, this again--Norders x Nphases x Npixels"
   ]
  },
  {
   "cell_type": "code",
   "execution_count": 3,
   "metadata": {},
   "outputs": [],
   "source": [
    "data_norm = np.zeros(data.shape)\n",
    "for i in range(len(data)):\n",
    "    order = data[i]\n",
    "    order_norm = (order.T / np.median(order, axis=1)).T\n",
    "    data_norm[i] = order_norm\n",
    "data = data_norm"
   ]
  },
  {
   "cell_type": "code",
   "execution_count": 4,
   "metadata": {},
   "outputs": [],
   "source": [
    "#SVD/PCA method-----------------------------------\n",
    "\n",
    "data_arr1=np.zeros(data.shape)\n",
    "data_arr=np.zeros(data.shape)\n",
    "\n",
    "NPC=4 #change the \"4\" to whatever. This is the number of PC's to remove\n",
    "\n",
    "for i in range(Ndet):\n",
    "    #taking only first four vectors, reconstructiong, and saving\n",
    "    u,s,vh=np.linalg.svd(data[i,],full_matrices=False)  #decompose\n",
    "    s[NPC:]=0.  \n",
    "    W=np.diag(s)\n",
    "    A=np.dot(u,np.dot(W,vh))\n",
    "    data_arr1[i,]=A\n",
    "\n",
    "    #removing first four vectors...this is the 'processesed data'\n",
    "    u,s,vh=np.linalg.svd(data[i,],full_matrices=False)  #decompose--not sure why I did it again....guess you don't really need this line\n",
    "    s[0:NPC]=0.\n",
    "    W=np.diag(s)\n",
    "    A=np.dot(u,np.dot(W,vh))\n",
    "    #sigma clipping sort of--it really doesn't make a yuge difference.\n",
    "    #'''\n",
    "    sig=np.std(A)\n",
    "    med=np.median(A)\n",
    "    loc=np.where(A > 3.*sig+med)\n",
    "    A[loc]=0#*0.+20*sig\n",
    "    loc=np.where(A < -3.*sig+med)\n",
    "    A[loc]=0#*0.+20*sig\n",
    "    \n",
    "    data_arr[i,]=A"
   ]
  },
  {
   "cell_type": "code",
   "execution_count": 5,
   "metadata": {},
   "outputs": [],
   "source": [
    "#saving pickles--these are used in the retrieval/log-likelihood/CCF analysis\n",
    "pickle.dump([wl_grid,data_arr1],open(data_dir+'/data_to_scale_with.pic','wb')) #this is all the telluric crud you removed. Will be used for model injection\n",
    "pickle.dump([wl_grid,data_arr],open(data_dir+'/PCA_matrix.pic','wb'))  #this is the \"PCA'd\" cube. It just looks like noise. The planet is in there somewhere...; wavelength might need /1000 if in A"
   ]
  },
  {
   "cell_type": "code",
   "execution_count": 6,
   "metadata": {},
   "outputs": [],
   "source": [
    "import dill\n",
    "pl_dat = dill.load(open('{}/planet_info_py3.dill'.format(data_dir),'rb'))\n",
    "p_vel1 = pl_dat['p_vel1']   # planet velocity for transit 1 (transit 2 exists but is low quality)\n",
    "tmodel1 = pl_dat['tmodel1'] # transit model, used for weighting\n",
    "bv1 = pl_dat['bv1']         # barycentric correction\n",
    "ph1 = pl_dat['ph1']         # orbital phase\n",
    "\n",
    "\n",
    "pickle.dump(bv1, open(data_dir+'/rvel.pic','wb'))  #the Vbary+Vsys now saved as one happy array pickle\n",
    "pickle.dump(ph1, open(data_dir+'/ph.pic','wb'))  #the Vbary+Vsys now saved as one happy array pickle"
   ]
  },
  {
   "cell_type": "code",
   "execution_count": 9,
   "metadata": {},
   "outputs": [
    {
     "name": "stdout",
     "output_type": "stream",
     "text": [
      "(44, 79, 1848)\n"
     ]
    }
   ],
   "source": [
    "from POSEIDON.high_res import make_data_cube\n",
    "data_dir = './reference_data/observations/WASP-77Ab_injection_test'\n",
    "wl_grid, data = pickle.load(open(data_dir+'/data_RAW.pic', 'rb'))\n",
    "print(data.shape)\n",
    "data_scale, data_arr = make_data_cube(data, wl_grid)\n",
    "\n",
    "#saving pickles--these are used in the retrieval/log-likelihood/CCF analysis\n",
    "pickle.dump([wl_grid, data_scale],open(data_dir+'/data_to_scale_with.pic','wb')) #this is all the telluric crud you removed. Will be used for model injection\n",
    "pickle.dump([wl_grid, data_arr],open(data_dir+'/PCA_matrix.pic','wb'))  #this is the \"PCA'd\" cube. It just looks like noise. The planet is in there somewhere...; wavelength might need /1000 if in A"
   ]
  },
  {
   "cell_type": "code",
   "execution_count": null,
   "metadata": {},
   "outputs": [],
   "source": []
  }
 ],
 "metadata": {
  "kernelspec": {
   "display_name": "poseidon",
   "language": "python",
   "name": "python3"
  },
  "language_info": {
   "codemirror_mode": {
    "name": "ipython",
    "version": 3
   },
   "file_extension": ".py",
   "mimetype": "text/x-python",
   "name": "python",
   "nbconvert_exporter": "python",
   "pygments_lexer": "ipython3",
   "version": "3.9.15 (main, Nov 24 2022, 14:31:59) \n[GCC 11.2.0]"
  },
  "orig_nbformat": 4,
  "vscode": {
   "interpreter": {
    "hash": "30fbb393e27bf01d5c79c3ae8fb066eb4d83fa1fc89ca9b3bd8ed8f6761ffd51"
   }
  }
 },
 "nbformat": 4,
 "nbformat_minor": 2
}
