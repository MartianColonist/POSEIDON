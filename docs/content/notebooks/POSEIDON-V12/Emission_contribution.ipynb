{
 "cells": [
  {
   "cell_type": "markdown",
   "metadata": {},
   "source": [
    "# Emission Contribution Visuals\n",
    "\n",
    "In this notebook, we will cover how to analyze \n",
    "\n",
    "1. The spectral components of an emission spectrum in brightness temperature\n",
    "2. Where in the forward model atmosphere the spectrum is forming, as well as specific molecules are forming features.\n",
    "3. Which wavelength regions are probing which pressure regions\n",
    "\n",
    "\n",
    "We will be using HD 189733b as an example planet."
   ]
  },
  {
   "cell_type": "code",
   "execution_count": null,
   "metadata": {
    "vscode": {
     "languageId": "plaintext"
    }
   },
   "outputs": [],
   "source": [
    "from POSEIDON.contributions import spectral_contribution #, plot_spectral_contribution\n",
    "\n",
    "FpFs, FpFs_list_names, FpFs_contribution = spectral_contribution(planet, star, model_clear_er, atmosphere, opac, wl,\n",
    "                                                                spectrum_type = 'emission',\n",
    "                                                                contribution_species_list = ['Na', 'K', 'H2O', 'CO2', 'CO'],\n",
    "                                                                bulk_species = True, \n",
    "                                                                cloud_contribution = False,\n",
    "                                                                put_one_in = True,\n",
    "                                                                take_one_out = False,\n",
    "                                                                fix_mu = True)"
   ]
  },
  {
   "cell_type": "code",
   "execution_count": null,
   "metadata": {
    "vscode": {
     "languageId": "plaintext"
    }
   },
   "outputs": [],
   "source": []
  },
  {
   "cell_type": "markdown",
   "metadata": {},
   "source": [
    "Remember that features for gas species only form in temperature gradients in emission"
   ]
  }
 ],
 "metadata": {
  "language_info": {
   "name": "python"
  }
 },
 "nbformat": 4,
 "nbformat_minor": 2
}
