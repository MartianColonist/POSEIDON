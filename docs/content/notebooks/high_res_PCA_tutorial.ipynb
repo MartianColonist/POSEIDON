{
 "cells": [
  {
   "attachments": {},
   "cell_type": "markdown",
   "metadata": {},
   "source": [
    "# Retrieval: High Resolution Emission Spectroscopy on WASP-77Ab\n",
    "\n",
    "\n",
    "This tutorial covers how to run a retrieval with high resolution data using POSEIDON. We will reproduce the result from [Brogi and Line 2019](https://ui.adsabs.harvard.edu/abs/2021Natur.598..580L/abstract), demonstrating the viabilty of our framework and a $\\rm{H}_2\\rm{O}$ and $\\rm{CO}_2$ detection on WASP-77Ab."
   ]
  },
  {
   "attachments": {},
   "cell_type": "markdown",
   "metadata": {},
   "source": [
    "### Loading Data\n",
    "\n",
    "First, you load the high resolution data for your planet (WASP-121b). We choose 'pca' as our filtering method. Another method is SYSREM. We demonstrate SYSREM in another tutorial."
   ]
  },
  {
   "cell_type": "code",
   "execution_count": 1,
   "metadata": {},
   "outputs": [
    {
     "data": {
      "text/plain": [
       "dict_keys(['wl_grid', 'data_arr', 'data_scale', 'data_raw', 'Phi', 'method', 'spectrum_type', 'V_bary', 'V_sin_i'])"
      ]
     },
     "execution_count": 1,
     "metadata": {},
     "output_type": "execute_result"
    }
   ],
   "source": [
    "from POSEIDON.utility import read_high_res_data\n",
    "data_dir = '../../../POSEIDON/reference_data/observations/WASP-77Ab'         # Special directory for this tutorial\n",
    "\n",
    "data = read_high_res_data(data_dir, method='pca', spectrum_type='emission')\n",
    "data['V_sin_i'] = 4.5\n",
    "data.keys()"
   ]
  },
  {
   "attachments": {},
   "cell_type": "markdown",
   "metadata": {},
   "source": [
    "### Wavelength Grid, Stellar and Planet Properties\n",
    "\n",
    "Then, let's provide the wavelength grid and properties of the host star and your planet. The wavelength range should match the range of your data. This observation spans 0.37 microns to 0.51 microns."
   ]
  },
  {
   "cell_type": "code",
   "execution_count": 2,
   "metadata": {},
   "outputs": [],
   "source": [
    "from POSEIDON.core import define_model, wl_grid_constant_R\n",
    "from POSEIDON.core import create_star, create_planet\n",
    "from POSEIDON.constants import R_Sun, R_J, M_J\n",
    "\n",
    "#***** Wavelength grid *****#\n",
    "\n",
    "wl_min = 1.3      # Minimum wavelength (um)\n",
    "wl_max = 2.6      # Maximum wavelength (um)\n",
    "R = 250000          # Spectral resolution of grid\n",
    "\n",
    "wl = wl_grid_constant_R(wl_min, wl_max, R)\n",
    "\n",
    "#***** Define stellar properties *****#\n",
    "\n",
    "R_s = 0.91*R_Sun      # Stellar radius (m)\n",
    "T_s = 5605.0          # Stellar effective temperature (K)\n",
    "Met_s = -0.04         # Stellar metallicity [log10(Fe/H_star / Fe/H_solar)]\n",
    "log_g_s = 4.48        # Stellar log surface gravity (log10(cm/s^2) by convention)\n",
    "\n",
    "star = create_star(R_s, T_s, log_g_s, Met_s, wl = wl, stellar_grid = 'phoenix')\n",
    "\n",
    "#***** Define planet properties *****#\n",
    "\n",
    "planet_name = 'WASP-77Ab'  # Planet name used for plots, output files etc.\n",
    "\n",
    "R_p = 1.21*R_J      # Planetary radius (m)\n",
    "M_p = 1.76*M_J      # Mass of planet (kg)\n",
    "g_p = 10**(3.4765-2)# Gravitational field of planet (m/s^2)\n",
    "T_eq = 1740         # Equilibrium temperature (K)\n",
    "\n",
    "# Create the planet object\n",
    "planet = create_planet(planet_name, R_p, mass = M_p, gravity = g_p, T_eq = T_eq)\n",
    "\n",
    "# If distance not specified, use fiducial value\n",
    "if (planet['system_distance'] is None):\n",
    "    planet['system_distance'] = 1    # This value only used for flux ratios, so it cancels\n",
    "d = planet['system_distance']"
   ]
  },
  {
   "attachments": {},
   "cell_type": "markdown",
   "metadata": {},
   "source": [
    "### Creating a Retrieval Model\n",
    "\n",
    "Existing literature have shown detection of $\\rm{H}_2\\rm{O}$ and $\\rm{C}\\rm{O}_2$ in the atmosphere of WASP-77Ab.\n",
    "\n",
    "So for a first attempt, we consider a model with $\\rm{H}_2\\rm{O}$ and $\\rm{C}\\rm{O}_2$, an isothermal temperature profile, and no clouds.\n",
    "\n",
    "For additional parameters used in high resolution retrieval, we include: $a$ (the scale parameter), $K_p$ (the Keplerian orbital velocity), and $V_{sys}$ (the systematic velocity). An additional parameter available is $\\Delta \\phi$, which offsets the ephemeris."
   ]
  },
  {
   "cell_type": "code",
   "execution_count": 3,
   "metadata": {},
   "outputs": [
    {
     "name": "stdout",
     "output_type": "stream",
     "text": [
      "Free parameters: ['R_p_ref' 'T' 'a' 'dPhi' 'K_p' 'V_sys']\n"
     ]
    }
   ],
   "source": [
    "from POSEIDON.core import define_model, wl_grid_constant_R\n",
    "from POSEIDON.utility import read_high_res_data\n",
    "#***** Define model *****#\n",
    "\n",
    "model_name = 'High-res retrieval'  # Model name used for plots, output files etc.\n",
    "\n",
    "bulk_species = ['H2', 'He']     # H2 + He comprises the bulk atmosphere\n",
    "# param_species = ['H2O', 'CO']  # H2O, CO as in Brogi & Line\n",
    "param_species = []  # H2O, CO as in Brogi & Line\n",
    "\n",
    "high_res_params = ['a', 'dPhi', 'K_p', 'V_sys']\n",
    "# Create the model object\n",
    "# model = define_model(model_name, bulk_species, param_species,\n",
    "#                     PT_profile = 'Madhu',\n",
    "#                     high_res_params = high_res_params, R_p_ref_enabled=False)\n",
    "model = define_model(model_name, bulk_species, param_species,\n",
    "                    PT_profile = 'isotherm',\n",
    "                    high_res_params = high_res_params)\n",
    "model['W_conv'] = 401\n",
    "# Check the free parameters defining this model\n",
    "print(\"Free parameters: \" + str(model['param_names']))"
   ]
  },
  {
   "attachments": {},
   "cell_type": "markdown",
   "metadata": {},
   "source": [
    "### Setting Retrieval Priors\n",
    "\n",
    "One of the most important aspects in any Bayesian analysis is deciding what priors to use for the free parameters. Specifying a prior has two steps: (i) choosing the type of probability distribution; and (ii) choosing the allowable range.\n",
    "\n",
    "Most free parameters in atmospheric retrievals with POSEIDON use the following prior types:\n",
    "\n",
    "- Uniform: you provide the minimum and maximum values for the parameter.\n",
    "- Gaussian: you provide the mean and standard deviation for the parameter.\n",
    "\n",
    "<div class=\"alert alert-info\">\n",
    "\n",
    "  **Note:**\n",
    "\n",
    "  If you do not specify a prior type or range for a given parameter, POSEIDON will ascribe a default prior type (generally uniform) and a 'generous' range.\n",
    "\n",
    "</div>\n",
    "\n",
    "\n",
    "Your first retrieval is defined by three free parameters: (1) the isothermal atmospheric temperature; (2) the radius at the (fixed) reference pressure; (3) the log-mixing ratio of $\\rm{Fe}$; and the four high resolution parameters. Since you don't have any *a priori* information on WASP-121b's atmosphere, you decide to use uniform priors for all the parameters. "
   ]
  },
  {
   "cell_type": "code",
   "execution_count": 4,
   "metadata": {},
   "outputs": [],
   "source": [
    "from POSEIDON.core import set_priors\n",
    "\n",
    "#***** Set priors for retrieval *****#\n",
    "\n",
    "# Initialise prior type dictionary\n",
    "prior_types = {}\n",
    "\n",
    "# Specify whether priors are linear, Gaussian, etc.\n",
    "prior_types['T_ref'] = 'uniform'\n",
    "prior_types['T'] = 'uniform'\n",
    "prior_types['R_p_ref'] = 'uniform'\n",
    "prior_types['log_H2O'] = 'uniform'\n",
    "prior_types['log_CO'] = 'uniform'\n",
    "prior_types['log_CH4'] = 'uniform'\n",
    "prior_types['log_H2S'] = 'uniform'\n",
    "prior_types['log_NH3'] = 'uniform'\n",
    "prior_types['log_HCN'] = 'uniform'\n",
    "prior_types['a1'] = 'uniform'\n",
    "prior_types['a2'] = 'uniform'\n",
    "prior_types['log_P1'] = 'uniform'\n",
    "prior_types['log_P2'] = 'uniform'\n",
    "prior_types['log_P3'] = 'uniform'\n",
    "prior_types['K_p'] = 'uniform'\n",
    "prior_types['V_sys'] = 'uniform'\n",
    "prior_types['a'] = 'gaussian'\n",
    "prior_types['dPhi'] = 'gaussian'\n",
    "prior_types['b'] = 'uniform'\n",
    "prior_types['W_conv'] = 'uniform'\n",
    "\n",
    "# Initialise prior range dictionary\n",
    "prior_ranges = {}\n",
    "\n",
    "# Specify prior ranges for each free parameter\n",
    "prior_ranges['T_ref'] = [500, 2000]\n",
    "prior_ranges['T'] = [500, 2000]\n",
    "prior_ranges['R_p_ref'] = [0.5*R_p, 1.5*R_p]\n",
    "prior_ranges['log_H2O'] = [-12, 0]\n",
    "prior_ranges['log_CO'] = [-12, 0]\n",
    "prior_ranges['log_CH4'] = [-12, 0]\n",
    "prior_ranges['log_H2S'] = [-12, 0]\n",
    "prior_ranges['log_NH3'] = [-12, 0]\n",
    "prior_ranges['log_HCN'] = [-12, 0]\n",
    "prior_ranges['a1'] = [0.02, 1]\n",
    "prior_ranges['a2'] = [0.02, 1]\n",
    "prior_ranges['log_P1'] = [-5.5, 2.5]\n",
    "prior_ranges['log_P2'] = [-5.5, 2.5]\n",
    "prior_ranges['log_P3'] = [-2, 2]\n",
    "prior_ranges['K_p'] = [180, 220]\n",
    "prior_ranges['V_sys'] = [-20, 20]\n",
    "prior_ranges['a'] = [0.01, 10]\n",
    "prior_ranges['dPhi'] = [-0.01, 0.01]\n",
    "prior_ranges['b'] = [0.1, 2]\n",
    "prior_ranges['W_conv'] = [1, 50]\n",
    "\n",
    "# Create prior object for retrieval\n",
    "priors = set_priors(planet, star, model, data, prior_types, prior_ranges)"
   ]
  },
  {
   "attachments": {},
   "cell_type": "markdown",
   "metadata": {},
   "source": [
    "### Pre-load Opacities\n",
    "\n",
    "The last step before running a retrieval is to pre-interpolate the cross sections for our model and store them in memory. For more details on this process, see the forward model tutorial.\n",
    "\n",
    "<div class=\"alert alert-warning\">\n",
    "\n",
    "  **Warning:**\n",
    "\n",
    "  Ensure the range of $T_{\\rm{fine}}$ used for opacity pre-interpolation is at least as large as the desired prior range for temperatures to be explored in the retrieval. Any models with layer temperatures falling outside the range of $T_{\\rm{fine}}$ will be automatically rejected (for retrievals with non-isothermal P-T profiles, this prevents unphysical profiles with negative temperatures etc.)\n",
    "\n",
    "</div>"
   ]
  },
  {
   "cell_type": "code",
   "execution_count": 5,
   "metadata": {},
   "outputs": [
    {
     "name": "stdout",
     "output_type": "stream",
     "text": [
      "env: POSEIDON_input_data=/home/ryanm/POSEIDON\n",
      "env: PYSYN_CDBS=/home/ryanm/POSEIDON/stellar_grid\n"
     ]
    }
   ],
   "source": [
    "%env POSEIDON_input_data=/home/ryanm/POSEIDON\n",
    "%env PYSYN_CDBS=/home/ryanm/POSEIDON/stellar_grid"
   ]
  },
  {
   "cell_type": "code",
   "execution_count": 6,
   "metadata": {},
   "outputs": [
    {
     "name": "stdout",
     "output_type": "stream",
     "text": [
      "Reading in cross sections in opacity sampling mode...\n",
      "H2-H2 done\n",
      "H2-He done\n",
      "Opacity pre-interpolation complete.\n"
     ]
    }
   ],
   "source": [
    "from POSEIDON.core import read_opacities\n",
    "import numpy as np\n",
    "\n",
    "#***** Read opacity data *****#\n",
    "\n",
    "opacity_treatment = 'opacity_sampling'\n",
    "\n",
    "# Define fine temperature grid (K)\n",
    "T_fine_min = 500     # 400 K lower limit suffices for a typical hot Jupiter\n",
    "T_fine_max = 3000    # 2000 K upper limit suffices for a typical hot Jupiter\n",
    "T_fine_step = 20     # 20 K steps are a good tradeoff between accuracy and RAM\n",
    "\n",
    "T_fine = np.arange(T_fine_min, (T_fine_max + T_fine_step), T_fine_step)\n",
    "\n",
    "# Define fine pressure grid (log10(P/bar))\n",
    "log_P_fine_min = -6.0   # 1 ubar is the lowest pressure in the opacity database\n",
    "log_P_fine_max = 2.5    # 100 bar is the highest pressure in the opacity database\n",
    "log_P_fine_step = 0.2   # 0.2 dex steps are a good tradeoff between accuracy and RAM\n",
    "\n",
    "log_P_fine = np.arange(log_P_fine_min, (log_P_fine_max + log_P_fine_step),\n",
    "                    log_P_fine_step)\n",
    "\n",
    "# Now we can pre-interpolate the sampled opacities (may take up to a minute)\n",
    "opac = read_opacities(model, wl, opacity_treatment, T_fine, log_P_fine)"
   ]
  },
  {
   "attachments": {},
   "cell_type": "markdown",
   "metadata": {},
   "source": [
    "### Run Retrieval\n",
    "\n",
    "You are now ready to run your first high resolution atmospheric retrieval with SYSREM!\n",
    "\n",
    "Here we will use the nested sampling algorithm MultiNest to explore the parameter space. The key input quantity you need to provide to MultiNest is called the *number of live points*, $N_{\\rm{live}}$, which determines how finely the parameter space will be sampled (and hence the number of computed spectra). For exploratory retrievals, $N_{\\rm{live}} = 400$ usually suffices. For publication-quality results, $N_{\\rm{live}} = 2000$ is reasonable. \n",
    "\n",
    "This simple POSEIDON retrieval should take about 10 minutes on 1 core for a typical laptop.\n",
    "\n",
    "<div class=\"alert alert-info\">\n",
    "\n",
    "  **Tip:**\n",
    "\n",
    "  Retrievals run faster on multiple cores. When running the cells in this Jupyter notebook, only a single core will be used. You can run a multi-core retrieval on 4 cores by converting this Jupyter notebook into a python script, then calling mpirun on the .py file:\n",
    "\n",
    "  ```\n",
    "  mpirun -n 4 python -u YOUR_RETRIEVAL_SCRIPT.py\n",
    "  ```\n",
    "  \n",
    "</div>\n",
    "\n",
    "\n",
    "<div class=\"alert alert-info\">\n",
    "\n",
    "  **Important Note:**\n",
    "  A high resolution forward model is computationally expensive (~1 second per model). With 400 live points, it took ~100,000 evalutations for the model to converge. With 36 cores, this amounts to ~1 hour. Therefore, there's no point in waiting for the next cell to finish. You should consider convert the notebook into a '.py' file and run it with multiple cores in command line.\n",
    "  \n",
    "</div>"
   ]
  },
  {
   "cell_type": "code",
   "execution_count": 7,
   "metadata": {},
   "outputs": [
    {
     "name": "stdout",
     "output_type": "stream",
     "text": [
      "POSEIDON now running 'High-res retrieval'\n",
      " *****************************************************\n",
      " MultiNest v3.10\n",
      " Copyright Farhan Feroz & Mike Hobson\n",
      " Release Jul 2015\n",
      "\n",
      " no. of live points =  400\n",
      " dimensionality =    6\n",
      " *****************************************************\n",
      " Starting MultiNest\n",
      " generating live points\n"
     ]
    }
   ],
   "source": [
    "from POSEIDON.retrieval import run_retrieval\n",
    "\n",
    "#***** Specify fixed atmospheric settings for retrieval *****#\n",
    "\n",
    "# Atmospheric pressure grid\n",
    "P_min = 1e-5    # 0.1 ubar\n",
    "P_max = 100       # 100 bar\n",
    "N_layers = 100    # 100 layers\n",
    "\n",
    "# Let's space the layers uniformly in log-pressure\n",
    "P = np.logspace(np.log10(P_max), np.log10(P_min), N_layers)\n",
    "\n",
    "# Specify the reference pressure and radius\n",
    "# P_ref = 10.0   # Reference pressure (bar)\n",
    "P_ref = 1e-5   # Reference pressure (bar)\n",
    "\n",
    "\n",
    "run_retrieval(planet, star, model, opac, data, priors, wl, P, P_ref, R = R, \n",
    "            spectrum_type = 'emission', sampling_algorithm = 'MultiNest', \n",
    "            N_live = 400, verbose = True, N_output_samples = 1000, resume = False, ev_tol=0.5)"
   ]
  },
  {
   "cell_type": "code",
   "execution_count": null,
   "metadata": {},
   "outputs": [],
   "source": [
    "        "
   ]
  }
 ],
 "metadata": {
  "kernelspec": {
   "display_name": "poseidon",
   "language": "python",
   "name": "python3"
  },
  "language_info": {
   "codemirror_mode": {
    "name": "ipython",
    "version": 3
   },
   "file_extension": ".py",
   "mimetype": "text/x-python",
   "name": "python",
   "nbconvert_exporter": "python",
   "pygments_lexer": "ipython3",
   "version": "3.9.15"
  },
  "orig_nbformat": 4
 },
 "nbformat": 4,
 "nbformat_minor": 2
}
