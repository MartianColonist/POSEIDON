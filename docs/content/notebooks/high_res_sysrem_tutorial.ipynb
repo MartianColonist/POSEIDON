{
 "cells": [
  {
   "attachments": {},
   "cell_type": "markdown",
   "metadata": {},
   "source": [
    "# Retrieval: High Resolution Transmission Spectroscopy on WASP-121b\n",
    "\n",
    "\n",
    "This tutorial covers how to run a retrieval with high resolution data using POSEIDON. We will reproduce the result from [Gibson et al. 2022](https://ui.adsabs.harvard.edu/abs/2022MNRAS.512.4618G/abstract), demonstrating the viabilty of our framework and a strong Fe detection on WASP-121b."
   ]
  },
  {
   "attachments": {},
   "cell_type": "markdown",
   "metadata": {},
   "source": [
    "### Loading Data\n",
    "\n",
    "First, you load the high resolution data for your planet (WASP-121b)."
   ]
  },
  {
   "cell_type": "code",
   "execution_count": 1,
   "metadata": {},
   "outputs": [
    {
     "data": {
      "text/plain": [
       "dict_keys(['wl_grid', 'data_arr', 'data_scale', 'data_raw', 'uncertainties', 'Phi', 'method', 'spectrum_type', 'V_bary', 'transit_weight'])"
      ]
     },
     "execution_count": 1,
     "metadata": {},
     "output_type": "execute_result"
    }
   ],
   "source": [
    "from POSEIDON.utility import read_high_res_data\n",
    "data_dir = '../../../POSEIDON/reference_data/observations/WASP-121b'\n",
    "data = read_high_res_data(data_dir, method='sysrem', spectrum_type='transmission')\n",
    "data_raw = data['data_raw']\n",
    "data_raw[data_raw < 0] = 0\n",
    "data['data_raw'] = data_raw\n",
    "data.keys()"
   ]
  },
  {
   "attachments": {},
   "cell_type": "markdown",
   "metadata": {},
   "source": [
    "### Wavelength Grid, Stellar and Planet Properties\n",
    "\n",
    "Then, let's provide the wavelength grid and properties of the host star and your planet. The wavelength range should match the range of your data. This observation spans 0.37 microns to 0.51 microns."
   ]
  },
  {
   "cell_type": "code",
   "execution_count": 2,
   "metadata": {},
   "outputs": [],
   "source": [
    "from POSEIDON.core import define_model, wl_grid_constant_R\n",
    "from POSEIDON.core import create_star, create_planet\n",
    "from POSEIDON.constants import R_Sun, R_J, M_J\n",
    "wl_min = 0.37      # Minimum wavelength (um)\n",
    "wl_max = 0.51      # Maximum wavelength (um)\n",
    "R = 250000         # Spectral resolution of grid\n",
    "wl = wl_grid_constant_R(wl_min, wl_max, R)\n",
    "\n",
    "#***** Define stellar properties *****#\n",
    "\n",
    "R_s = 1.458*R_Sun     # Stellar radius (m)\n",
    "T_s = 6776            # Stellar effective temperature (K)\n",
    "Met_s = 0.13          # Stellar metallicity [log10(Fe/H_star / Fe/H_solar)]\n",
    "log_g_s = 4.24        # Stellar log surface gravity (log10(cm/s^2) by convention)\n",
    "\n",
    "# Create the stellar object\n",
    "star = create_star(R_s, T_s, log_g_s, Met_s, wl=wl, stellar_grid = 'phoenix')\n",
    "#***** Define planet properties *****#\n",
    "\n",
    "planet_name = 'WASP-121b'  # Planet name used for plots, output files etc.\n",
    "\n",
    "R_p = 1.753*R_J      # Planetary radius (m)\n",
    "M_p = 1.157*M_J      # Mass of planet (kg)\n",
    "g_p = 10**(2.97-2) # Gravitational field of planet (m/s^2)\n",
    "T_eq = 2450          # Equilibrium temperature (K)\n",
    "\n",
    "# Create the planet object\n",
    "planet = create_planet(planet_name, R_p, mass = M_p, gravity = g_p, T_eq = T_eq)\n",
    "\n",
    "# If distance not specified, use fiducial value\n",
    "if (planet['system_distance'] is None):\n",
    "    planet['system_distance'] = 1    # This value only used for flux ratios, so it cancels\n",
    "d = planet['system_distance']"
   ]
  },
  {
   "attachments": {},
   "cell_type": "markdown",
   "metadata": {},
   "source": [
    "### Creating a Retrieval Model\n",
    "\n",
    "Existing literature have shown detection of $\\rm{Fe}$ in the atmosphere of WASP-121b. There are strong $\\rm{Fe}$ absorption features in the wavelength range as well.\n",
    "\n",
    "So for a first attempt, we consider a model with $\\rm{Fe}$, an isothermal temperature profile, and no clouds.\n",
    "\n",
    "For additional parameters used in high resolution retrieval, we include: $a$ (the scale parameter), $b$ (the scale parameter for noise), $K_p$ (the Keplerian orbital velocity), $V_{sys}$ (the systematic velocity), and $W_{conv}$ (the broadening kernel width). An additional parameter available is $\\Delta \\phi$, which offsets the ephemeris.\n",
    "\n",
    "We choose 'SYSREM' as our filtering method. Another method is Principal Compoment Analysis (PCA). We demonstrate this in another tutorial."
   ]
  },
  {
   "cell_type": "code",
   "execution_count": 3,
   "metadata": {},
   "outputs": [
    {
     "name": "stdout",
     "output_type": "stream",
     "text": [
      "Free parameters: ['R_p_ref' 'T' 'log_Fe' 'a' 'b' 'K_p' 'V_sys' 'W_conv']\n"
     ]
    }
   ],
   "source": [
    "from POSEIDON.core import define_model, wl_grid_constant_R\n",
    "from POSEIDON.utility import read_high_res_data\n",
    "#***** Define model *****#\n",
    "\n",
    "model_name = 'High-res retrieval'  # Model name used for plots, output files etc.\n",
    "\n",
    "bulk_species = ['H2', 'He']         # H2 + He comprises the bulk atmosphere\n",
    "# param_species = ['Mg', 'Fe', 'Ti']\n",
    "param_species = ['Fe']\n",
    "\n",
    "method = 'sysrem'\n",
    "# high_res_params = ['a', 'b', 'dPhi', 'K_p', 'V_sys', 'W_conv']\n",
    "high_res_params = ['a', 'b', 'K_p', 'V_sys', 'W_conv']\n",
    "\n",
    "# Create the model object\n",
    "# model = define_model(model_name, bulk_species, param_species, \n",
    "#                     PT_profile = 'Madhu', high_res = high_res,\n",
    "#                     high_res_params = high_res_params, R_p_ref_enabled=False)\n",
    "model = define_model(model_name, bulk_species, param_species, \n",
    "                    PT_profile = 'isotherm', high_res_params = high_res_params)\n",
    "\n",
    "# Check the free parameters defining this model\n",
    "print(\"Free parameters: \" + str(model['param_names']))"
   ]
  },
  {
   "attachments": {},
   "cell_type": "markdown",
   "metadata": {},
   "source": [
    "### Setting Retrieval Priors\n",
    "\n",
    "One of the most important aspects in any Bayesian analysis is deciding what priors to use for the free parameters. Specifying a prior has two steps: (i) choosing the type of probability distribution; and (ii) choosing the allowable range.\n",
    "\n",
    "Most free parameters in atmospheric retrievals with POSEIDON use the following prior types:\n",
    "\n",
    "- Uniform: you provide the minimum and maximum values for the parameter.\n",
    "- Gaussian: you provide the mean and standard deviation for the parameter.\n",
    "\n",
    "<div class=\"alert alert-info\">\n",
    "\n",
    "  **Note:**\n",
    "\n",
    "  If you do not specify a prior type or range for a given parameter, POSEIDON will ascribe a default prior type (generally uniform) and a 'generous' range.\n",
    "\n",
    "</div>\n",
    "\n",
    "\n",
    "Your first retrieval is defined by three free parameters: (1) the isothermal atmospheric temperature; (2) the radius at the (fixed) reference pressure; (3) the log-mixing ratio of $\\rm{Fe}$; and the four high resolution parameters. Since you don't have any *a priori* information on WASP-121b's atmosphere, you decide to use uniform priors for all the parameters. "
   ]
  },
  {
   "cell_type": "code",
   "execution_count": 4,
   "metadata": {},
   "outputs": [],
   "source": [
    "from POSEIDON.core import set_priors\n",
    "\n",
    "#***** Set priors for retrieval *****#\n",
    "\n",
    "# Initialise prior type dictionary\n",
    "prior_types = {}\n",
    "\n",
    "# Specify whether priors are linear, Gaussian, etc.\n",
    "prior_types['T_ref'] = 'uniform'\n",
    "prior_types['T'] = 'uniform'\n",
    "prior_types['R_p_ref'] = 'uniform'\n",
    "prior_types['log_Ti'] = 'uniform'\n",
    "prior_types['log_Fe'] = 'uniform'\n",
    "prior_types['log_Mg'] = 'uniform'\n",
    "prior_types['a1'] = 'uniform'\n",
    "prior_types['a2'] = 'uniform'\n",
    "prior_types['log_P1'] = 'uniform'\n",
    "prior_types['log_P2'] = 'uniform'\n",
    "prior_types['log_P3'] = 'uniform'\n",
    "prior_types['K_p'] = 'uniform'\n",
    "prior_types['V_sys'] = 'uniform'\n",
    "prior_types['a'] = 'uniform'\n",
    "prior_types['b'] = 'uniform'\n",
    "prior_types['dPhi'] = 'uniform'\n",
    "prior_types['W_conv'] = 'uniform'\n",
    "\n",
    "# Initialise prior range dictionary\n",
    "prior_ranges = {}\n",
    "\n",
    "# Specify prior ranges for each free parameter\n",
    "prior_ranges['T_ref'] = [2000, 4500]\n",
    "prior_ranges['T'] = [2000, 4500]\n",
    "prior_ranges['R_p_ref'] = [0.5*R_p, 2*R_p]\n",
    "prior_ranges['log_Ti'] = [-15, 0]\n",
    "prior_ranges['log_Fe'] = [-15, 0]\n",
    "prior_ranges['log_Mg'] = [-15, 0]\n",
    "prior_ranges['a1'] = [0.02, 1]\n",
    "prior_ranges['a2'] = [0.02, 1]\n",
    "prior_ranges['log_P1'] = [-5.5, 2.5]\n",
    "prior_ranges['log_P2'] = [-5.5, 2.5]\n",
    "prior_ranges['log_P3'] = [-2, 2]\n",
    "prior_ranges['K_p'] = [170, 230]\n",
    "prior_ranges['V_sys'] = [-10, 10]\n",
    "prior_ranges['a'] = [0.1, 10]\n",
    "prior_ranges['b'] = [0.1, 10]\n",
    "prior_ranges['dPhi'] = [-0.01, 0.01]\n",
    "prior_ranges['W_conv'] = [1, 50]\n",
    "\n",
    "# Create prior object for retrieval\n",
    "priors = set_priors(planet, star, model, data, prior_types, prior_ranges)"
   ]
  },
  {
   "attachments": {},
   "cell_type": "markdown",
   "metadata": {},
   "source": [
    "### Pre-load Opacities\n",
    "\n",
    "The last step before running a retrieval is to pre-interpolate the cross sections for our model and store them in memory. For more details on this process, see the forward model tutorial.\n",
    "\n",
    "<div class=\"alert alert-warning\">\n",
    "\n",
    "  **Warning:**\n",
    "\n",
    "  Ensure the range of $T_{\\rm{fine}}$ used for opacity pre-interpolation is at least as large as the desired prior range for temperatures to be explored in the retrieval. Any models with layer temperatures falling outside the range of $T_{\\rm{fine}}$ will be automatically rejected (for retrievals with non-isothermal P-T profiles, this prevents unphysical profiles with negative temperatures etc.)\n",
    "\n",
    "</div>"
   ]
  },
  {
   "cell_type": "code",
   "execution_count": 5,
   "metadata": {},
   "outputs": [
    {
     "name": "stdout",
     "output_type": "stream",
     "text": [
      "env: POSEIDON_input_data=/home/ryanm/POSEIDON\n",
      "env: PYSYN_CDBS=/home/ryanm/POSEIDON/stellar_grid\n"
     ]
    }
   ],
   "source": [
    "%env POSEIDON_input_data=/home/ryanm/POSEIDON\n",
    "%env PYSYN_CDBS=/home/ryanm/POSEIDON/stellar_grid"
   ]
  },
  {
   "cell_type": "code",
   "execution_count": 7,
   "metadata": {},
   "outputs": [
    {
     "name": "stdout",
     "output_type": "stream",
     "text": [
      "Reading in cross sections in opacity sampling mode...\n",
      "H2-H2 done\n",
      "H2-He done\n",
      "Fe done\n",
      "Opacity pre-interpolation complete.\n"
     ]
    }
   ],
   "source": [
    "from POSEIDON.core import read_opacities\n",
    "import numpy as np\n",
    "\n",
    "#***** Read opacity data *****#\n",
    "\n",
    "opacity_treatment = 'opacity_sampling'\n",
    "\n",
    "# Define fine temperature grid (K)\n",
    "T_fine_min = 2000     # 400 K lower limit suffices for a typical hot Jupiter\n",
    "T_fine_max = 4500    # 2000 K upper limit suffices for a typical hot Jupiter\n",
    "T_fine_step = 20     # 20 K steps are a good tradeoff between accuracy and RAM\n",
    "\n",
    "T_fine = np.arange(T_fine_min, (T_fine_max + T_fine_step), T_fine_step)\n",
    "\n",
    "# Define fine pressure grid (log10(P/bar))\n",
    "log_P_fine_min = -6.0   # 1 ubar is the lowest pressure in the opacity database\n",
    "log_P_fine_max = 2.5    # 100 bar is the highest pressure in the opacity database\n",
    "log_P_fine_step = 0.2   # 0.2 dex steps are a good tradeoff between accuracy and RAM\n",
    "\n",
    "log_P_fine = np.arange(log_P_fine_min, (log_P_fine_max + log_P_fine_step),\n",
    "                    log_P_fine_step)\n",
    "\n",
    "# Now we can pre-interpolate the sampled opacities (may take up to a minute)\n",
    "opac = read_opacities(model, wl, opacity_treatment, T_fine, log_P_fine)"
   ]
  },
  {
   "attachments": {},
   "cell_type": "markdown",
   "metadata": {},
   "source": [
    "### Run Retrieval\n",
    "\n",
    "You are now ready to run your first high resolution atmospheric retrieval with SYSREM!\n",
    "\n",
    "Here we will use the nested sampling algorithm MultiNest to explore the parameter space. The key input quantity you need to provide to MultiNest is called the *number of live points*, $N_{\\rm{live}}$, which determines how finely the parameter space will be sampled (and hence the number of computed spectra). For exploratory retrievals, $N_{\\rm{live}} = 400$ usually suffices. For publication-quality results, $N_{\\rm{live}} = 2000$ is reasonable. \n",
    "\n",
    "This simple POSEIDON retrieval should take about 10 minutes on 1 core for a typical laptop.\n",
    "\n",
    "<div class=\"alert alert-info\">\n",
    "\n",
    "  **Tip:**\n",
    "\n",
    "  Retrievals run faster on multiple cores. When running the cells in this Jupyter notebook, only a single core will be used. You can run a multi-core retrieval on 4 cores by converting this Jupyter notebook into a python script, then calling mpirun on the .py file:\n",
    "\n",
    "  ```\n",
    "  mpirun -n 4 python -u YOUR_RETRIEVAL_SCRIPT.py\n",
    "  ```\n",
    "  \n",
    "</div>\n",
    "\n",
    "\n",
    "<div class=\"alert alert-info\">\n",
    "\n",
    "  **Important Note:**\n",
    "  A high resolution forward model is computationally expensive (~1 second per model). With 400 live points, it took ~100,000 evalutations for the model to converge. With 36 cores, this amounts to ~1 hour. Therefore, there's no point in waiting for the next cell to finish. You should consider convert the notebook into a '.py' file and run it with multiple cores in command line.\n",
    "  \n",
    "</div>"
   ]
  },
  {
   "cell_type": "code",
   "execution_count": 8,
   "metadata": {},
   "outputs": [
    {
     "name": "stdout",
     "output_type": "stream",
     "text": [
      "POSEIDON now running 'High-res retrieval'\n",
      " *****************************************************\n",
      " MultiNest v3.10\n",
      " Copyright Farhan Feroz & Mike Hobson\n",
      " Release Jul 2015\n",
      "\n",
      " no. of live points =  800\n",
      " dimensionality =    8\n",
      " *****************************************************\n",
      " Starting MultiNest\n",
      " generating live points\n",
      " live points generated, starting sampling\n",
      "Acceptance Rate:                        0.998825\n",
      "Replacements:                                850\n",
      "Total Samples:                               851\n",
      "Nested Sampling ln(Z):            **************\n",
      "Acceptance Rate:                        0.994475\n",
      "Replacements:                                900\n",
      "Total Samples:                               905\n",
      "Nested Sampling ln(Z):            **************\n",
      "Acceptance Rate:                        0.987526\n",
      "Replacements:                                950\n",
      "Total Samples:                               962\n",
      "Nested Sampling ln(Z):            **************\n",
      "Acceptance Rate:                        0.976562\n",
      "Replacements:                               1000\n",
      "Total Samples:                              1024\n",
      "Nested Sampling ln(Z):            **************\n",
      "Acceptance Rate:                        0.965074\n",
      "Replacements:                               1050\n",
      "Total Samples:                              1088\n",
      "Nested Sampling ln(Z):            **************\n",
      "Acceptance Rate:                        0.949094\n",
      "Replacements:                               1100\n",
      "Total Samples:                              1159\n",
      "Nested Sampling ln(Z):            **************\n",
      "Acceptance Rate:                        0.939542\n",
      "Replacements:                               1150\n",
      "Total Samples:                              1224\n",
      "Nested Sampling ln(Z):            **************\n",
      "Acceptance Rate:                        0.932401\n",
      "Replacements:                               1200\n",
      "Total Samples:                              1287\n",
      "Nested Sampling ln(Z):            **************\n",
      "Acceptance Rate:                        0.925926\n",
      "Replacements:                               1250\n",
      "Total Samples:                              1350\n",
      "Nested Sampling ln(Z):            **************\n",
      "Acceptance Rate:                        0.912281\n",
      "Replacements:                               1300\n",
      "Total Samples:                              1425\n",
      "Nested Sampling ln(Z):            **************\n",
      "Acceptance Rate:                        0.901202\n",
      "Replacements:                               1350\n",
      "Total Samples:                              1498\n",
      "Nested Sampling ln(Z):            **************\n",
      "Acceptance Rate:                        0.886076\n",
      "Replacements:                               1400\n",
      "Total Samples:                              1580\n",
      "Nested Sampling ln(Z):            **************\n",
      "Acceptance Rate:                        0.878256\n",
      "Replacements:                               1450\n",
      "Total Samples:                              1651\n",
      "Nested Sampling ln(Z):            **************\n",
      "Acceptance Rate:                        0.871080\n",
      "Replacements:                               1500\n",
      "Total Samples:                              1722\n",
      "Nested Sampling ln(Z):            **************\n",
      "Acceptance Rate:                        0.861590\n",
      "Replacements:                               1550\n",
      "Total Samples:                              1799\n",
      "Nested Sampling ln(Z):            **************\n",
      "Acceptance Rate:                        0.854701\n",
      "Replacements:                               1600\n",
      "Total Samples:                              1872\n",
      "Nested Sampling ln(Z):            **************\n",
      "Acceptance Rate:                        0.843990\n",
      "Replacements:                               1650\n",
      "Total Samples:                              1955\n",
      "Nested Sampling ln(Z):            **************\n",
      "Acceptance Rate:                        0.834971\n",
      "Replacements:                               1700\n",
      "Total Samples:                              2036\n",
      "Nested Sampling ln(Z):            **************\n",
      "Acceptance Rate:                        0.829384\n",
      "Replacements:                               1750\n",
      "Total Samples:                              2110\n",
      "Nested Sampling ln(Z):            **************\n",
      "Acceptance Rate:                        0.823422\n",
      "Replacements:                               1800\n",
      "Total Samples:                              2186\n",
      "Nested Sampling ln(Z):            **************\n",
      "Acceptance Rate:                        0.819672\n",
      "Replacements:                               1850\n",
      "Total Samples:                              2257\n",
      "Nested Sampling ln(Z):            **************\n",
      "Acceptance Rate:                        0.814053\n",
      "Replacements:                               1900\n",
      "Total Samples:                              2334\n",
      "Nested Sampling ln(Z):            **************\n"
     ]
    },
    {
     "ename": "",
     "evalue": "",
     "output_type": "error",
     "traceback": [
      "\u001b[1;31mCanceled future for execute_request message before replies were done"
     ]
    },
    {
     "ename": "",
     "evalue": "",
     "output_type": "error",
     "traceback": [
      "\u001b[1;31mThe Kernel crashed while executing code in the the current cell or a previous cell. Please review the code in the cell(s) to identify a possible cause of the failure. Click <a href='https://aka.ms/vscodeJupyterKernelCrash'>here</a> for more info. View Jupyter <a href='command:jupyter.viewOutput'>log</a> for further details."
     ]
    }
   ],
   "source": [
    "from POSEIDON.retrieval import run_retrieval\n",
    "\n",
    "#***** Specify fixed atmospheric settings for retrieval *****#\n",
    "\n",
    "# Atmospheric pressure grid\n",
    "P_min = 1e-12    # 0.1 ubar\n",
    "P_max = 100       # 100 bar\n",
    "N_layers = 100    # 100 layers\n",
    "\n",
    "# Let's space the layers uniformly in log-pressure\n",
    "P = np.logspace(np.log10(P_max), np.log10(P_min), N_layers)\n",
    "\n",
    "# Specify the reference pressure and radius\n",
    "P_ref = 1e-5   # Reference pressure (bar)\n",
    "\n",
    "#***** Run atmospheric retrieval *****#\n",
    "\n",
    "run_retrieval(planet, star, model, opac, data, priors, wl, P, P_ref, R = R, \n",
    "                spectrum_type = 'transmission', sampling_algorithm = 'MultiNest', \n",
    "                N_live = 400, verbose = True, N_output_samples = 1000, resume = False, ev_tol=0.05)"
   ]
  },
  {
   "cell_type": "code",
   "execution_count": null,
   "metadata": {},
   "outputs": [],
   "source": [
    "        "
   ]
  }
 ],
 "metadata": {
  "kernelspec": {
   "display_name": "poseidon",
   "language": "python",
   "name": "python3"
  },
  "language_info": {
   "codemirror_mode": {
    "name": "ipython",
    "version": 3
   },
   "file_extension": ".py",
   "mimetype": "text/x-python",
   "name": "python",
   "nbconvert_exporter": "python",
   "pygments_lexer": "ipython3",
   "version": "3.8.0"
  },
  "orig_nbformat": 4
 },
 "nbformat": 4,
 "nbformat_minor": 2
}
