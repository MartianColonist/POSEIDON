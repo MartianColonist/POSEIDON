{
 "cells": [
  {
   "cell_type": "code",
   "execution_count": 1,
   "metadata": {},
   "outputs": [],
   "source": [
    "import os\n",
    "\n",
    "os.environ[\"PYSYN_CDBS\"] = \"/home/ruizhew/POSEIDON/inputs/stellar_grids/\"\n",
    "os.environ[\"POSEIDON_input_data\"] = \"/home/ruizhew/POSEIDON/inputs/\""
   ]
  },
  {
   "cell_type": "code",
   "execution_count": 2,
   "metadata": {},
   "outputs": [],
   "source": [
    "from __future__ import absolute_import, unicode_literals, print_function\n",
    "from POSEIDON.high_res import (\n",
    "    fast_filter,\n",
    "    loglikelihood_sysrem,\n",
    "    get_rot_kernel,\n",
    "    fit_uncertainties,\n",
    "    fit_uncertainties_and_remove_outliers,\n",
    ")\n",
    "import math, os\n",
    "import numpy as np\n",
    "import pickle\n",
    "import pickle\n",
    "from scipy import constants\n",
    "from numba import jit\n",
    "from astropy.io import fits\n",
    "from scipy import interpolate\n",
    "from POSEIDON.core import (\n",
    "    create_star,\n",
    "    create_planet,\n",
    "    define_model,\n",
    "    make_atmosphere,\n",
    "    read_opacities,\n",
    "    wl_grid_constant_R,\n",
    "    wl_grid_line_by_line,\n",
    "    compute_spectrum,\n",
    ")\n",
    "from POSEIDON.constants import R_Sun\n",
    "from POSEIDON.visuals import plot_stellar_flux\n",
    "from POSEIDON.constants import R_J, M_J\n",
    "import numpy as np\n",
    "from spectres import spectres\n",
    "from tqdm import tqdm\n",
    "from multiprocessing import Pool\n",
    "import h5py\n",
    "import matplotlib.pyplot as plt\n",
    "from scipy.ndimage import gaussian_filter1d, median_filter"
   ]
  },
  {
   "cell_type": "code",
   "execution_count": 3,
   "metadata": {},
   "outputs": [],
   "source": [
    "from scipy.optimize import minimize\n",
    "from sklearn.decomposition import TruncatedSVD"
   ]
  },
  {
   "cell_type": "code",
   "execution_count": 61,
   "metadata": {},
   "outputs": [],
   "source": [
    "data = h5py.File(\"./data/WASP-121b.h5\", \"r\")"
   ]
  },
  {
   "cell_type": "code",
   "execution_count": 16,
   "metadata": {},
   "outputs": [
    {
     "name": "stdout",
     "output_type": "stream",
     "text": [
      "blue\n",
      "0.3112363521515823 238.11804990033775\n",
      "0.26495334012555566 265.81667728775886\n",
      "0.30433557090781105 262.7675423238875\n",
      "0.3014234835155501 263.4181449296351\n",
      "0.2931882694266263 267.0896506291757\n",
      "0.308720870594428 262.0207139135431\n",
      "0.3134401871598662 263.22911483152984\n",
      "0.3064003220161138 263.47648463089155\n",
      "0.3068269535954046 266.085395610039\n",
      "0.29743278273493545 269.9791361314982\n",
      "0.29661264578671076 268.9852743706458\n",
      "0.3047211411394326 265.3478716295382\n",
      "0.2985926798753237 269.94238615111635\n",
      "0.2869462156411978 274.93524613023806\n",
      "0.2863247013841429 275.19622301454007\n",
      "0.29288178644855783 271.7913029485142\n",
      "0.28957252789178356 273.15488307809966\n",
      "0.26714120883075176 287.1888768460542\n",
      "0.2624467613106007 294.24033031406486\n",
      "0.2626694692582427 292.6013066838359\n",
      "0.2649026571429537 292.8781587603386\n",
      "0.26910063387050487 291.1804521651875\n",
      "0.26661645078710383 293.7618922427317\n",
      "0.27439768478593607 290.6390998758484\n",
      "0.2766835525258131 285.7049275422145\n",
      "0.27520538999296884 288.25821648311904\n",
      "0.2839296185579695 282.2263027040575\n",
      "0.2675631283833759 290.7605521195236\n",
      "0.27666874360246674 283.9896167855459\n",
      "0.26823850498114504 292.02739369793636\n",
      "Finish fit uncertainties\n",
      "redl\n",
      "2.859591704148388 245.45839812213416\n",
      "2.573680544718557 264.1429606946615\n",
      "2.0354214347089252 296.5824019490814\n",
      "1.4318421535810422 342.2997569745574\n",
      "0.9487600052814467 380.78074221558813\n",
      "0.6254234061928127 418.188879810205\n",
      "0.40836244415707457 453.5941653348577\n",
      "0.3600308152816087 468.3111384370656\n",
      "0.2992331914699885 494.0787772885328\n",
      "0.2987124005304851 500.32649864179905\n",
      "0.34925159363688163 497.2526534904746\n",
      "0.355087980863894 496.22086572940145\n",
      "0.3930848374114708 448.95220382653855\n",
      "0.3458254848749669 455.9311255839366\n",
      "0.3637077737931929 441.176367816803\n",
      "0.3917579846177205 424.4527139056487\n",
      "0.39331154342949487 429.6663304247627\n",
      "0.40013366290754016 422.5046893882461\n",
      "0.40082245748517475 423.4927687722083\n",
      "0.39893039473683267 427.8654582015921\n",
      "0.3900949373978132 437.3167949980351\n",
      "0.39564685869039184 429.6464310933194\n",
      "0.39594002281309404 435.4789409039896\n",
      "0.37775291096930674 460.1670823576822\n",
      "0.37911688036497215 450.8229135865108\n",
      "0.40720401051776695 436.73586049560845\n",
      "Finish fit uncertainties\n",
      "redu\n",
      "0.38412161463501404 965.3934156022482\n",
      "0.3725229276892594 984.680688751956\n",
      "0.3862849710363672 941.5862295639989\n",
      "0.39640873949283517 940.193412903963\n",
      "0.3714533085440562 977.4658512472764\n",
      "0.38872046907788693 961.1793720852432\n",
      "0.3788214549208694 948.734114068538\n",
      "0.3781021339569025 954.1209844902586\n",
      "0.5098731543069346 811.5533327051357\n",
      "0.2580731826662549 1223.8739354729946\n",
      "0.4066253032831414 1060.2058322809257\n",
      "0.3899180196418755 1109.1081080377617\n",
      "0.4171136538637097 1050.5857071575083\n",
      "0.41266469384505117 1060.569625059131\n",
      "0.40667188157005363 1094.972481061102\n",
      "0.3791239328024602 1185.0958967490922\n",
      "0.3674096571194666 1078.6824144626903\n",
      "0.3506277900260031 1101.8493487358\n",
      "Finish fit uncertainties\n"
     ]
    }
   ],
   "source": [
    "chips = [\"blue\", \"redl\", \"redu\"]\n",
    "\n",
    "for chip in chips:\n",
    "    flux = data[chip][\"flux\"][:]\n",
    "    wl_grid = data[chip][\"wl_grid\"][:]\n",
    "    N_order, N_phi, N_wl = flux.shape\n",
    "    if \"flux_blaze_corrected\" in data[chip]:\n",
    "        pass\n",
    "    else:\n",
    "        blaze = np.zeros(flux.shape)\n",
    "        for k in range(N_order):\n",
    "            order = flux[k]\n",
    "            median = np.median(order, axis=0)\n",
    "            order_norm = order / median\n",
    "            blaze[k] = order_norm\n",
    "\n",
    "        for det in range(N_order):\n",
    "            for phi in range(N_phi):\n",
    "                blaze[det][phi] = median_filter(blaze[det][phi], size=501)\n",
    "\n",
    "        for det in range(N_order):\n",
    "            for phi in range(N_phi):\n",
    "                blaze[det][phi] = gaussian_filter1d(blaze[det][phi], sigma=100)\n",
    "\n",
    "        flux = flux / blaze\n",
    "\n",
    "        print(\"Finish blaze correction\")\n",
    "        data[chip].create_dataset(\"flux_blaze_corrected\", data=flux)\n",
    "\n",
    "    flux[flux < 0] = 1e-7\n",
    "    uncertainties = fit_uncertainties(flux)\n",
    "    print(\"Finish fit uncertainties\")\n",
    "\n",
    "    for i in range(N_order):\n",
    "        order = flux[i]\n",
    "        # out_of_transit_frames = np.concatenate((order[:20], order[-20:]), axis=0)\n",
    "        median = np.median(order, axis=0)\n",
    "        order_norm = order / median\n",
    "        uncertainty = uncertainties[i]\n",
    "\n",
    "        uncertainty_norm = uncertainty / median\n",
    "\n",
    "        uncertainties[i] = uncertainty_norm\n",
    "        flux[i] = order_norm\n",
    "\n",
    "    residuals, Us = fast_filter(flux, uncertainties, N_iter=15)\n",
    "\n",
    "    Bs = np.zeros((N_order, N_phi, N_phi))\n",
    "\n",
    "    for j in range(N_order):\n",
    "        U = Us[j]\n",
    "        L = np.diag(1 / np.mean(uncertainties[j], axis=-1))\n",
    "        B = U @ np.linalg.pinv(L @ U) @ L\n",
    "        Bs[j] = B\n",
    "\n",
    "    data[chip].require_dataset(\"residuals\", shape=residuals.shape, dtype=float)\n",
    "    data[chip][\"residuals\"][:] = residuals\n",
    "    data[chip].require_dataset(\"Bs\", shape=Bs.shape, dtype=float)\n",
    "    data[chip][\"Bs\"][:] = Bs\n",
    "    data[chip].require_dataset(\"uncertainties\", shape=uncertainties.shape, dtype=float)\n",
    "    data[chip][\"uncertainties\"][:] = uncertainties"
   ]
  },
  {
   "cell_type": "code",
   "execution_count": 17,
   "metadata": {},
   "outputs": [
    {
     "name": "stdout",
     "output_type": "stream",
     "text": [
      "<HDF5 group \"/blue\" (8 members)>\n",
      "<HDF5 group \"/redl\" (8 members)>\n",
      "<HDF5 group \"/redu\" (8 members)>\n"
     ]
    }
   ],
   "source": [
    "for key in data.keys():\n",
    "    print(data[key])\n",
    "data.close()"
   ]
  },
  {
   "cell_type": "code",
   "execution_count": 32,
   "metadata": {},
   "outputs": [],
   "source": [
    "def read(data_all):\n",
    "    for key in data_all.keys():\n",
    "        data = data_all[key]\n",
    "        wl_grid = data[\"wl_grid\"][:]\n",
    "        residuals = data[\"residuals\"][:]\n",
    "        Bs = data[\"Bs\"][:]\n",
    "        phi = data[\"phi\"][:]\n",
    "        transit_weight = data[\"transit_weight\"][:]\n",
    "        uncertainties = data[\"uncertainties\"][\n",
    "            :\n",
    "        ]  # in case we want to null uncertainties"
   ]
  },
  {
   "cell_type": "code",
   "execution_count": 72,
   "metadata": {},
   "outputs": [],
   "source": [
    "data_dic = {}\n",
    "\n",
    "for key in [\"blue\", \"redl\", \"redu\"]:\n",
    "    data_dic[key] = {}\n",
    "\n",
    "    def func(name, obj):\n",
    "        data_dic[key][name] = obj[:]\n",
    "\n",
    "    data[key].visititems(func)"
   ]
  },
  {
   "cell_type": "code",
   "execution_count": 73,
   "metadata": {},
   "outputs": [
    {
     "data": {
      "text/plain": [
       "dict_keys(['Bs', 'flux', 'flux_blaze_corrected', 'phi', 'residuals', 'transit_weight', 'uncertainties', 'wl_grid'])"
      ]
     },
     "execution_count": 73,
     "metadata": {},
     "output_type": "execute_result"
    }
   ],
   "source": [
    "data_dic[\"blue\"].keys()"
   ]
  },
  {
   "cell_type": "code",
   "execution_count": null,
   "metadata": {},
   "outputs": [],
   "source": []
  }
 ],
 "metadata": {
  "kernelspec": {
   "display_name": "Python 3",
   "language": "python",
   "name": "python3"
  },
  "language_info": {
   "codemirror_mode": {
    "name": "ipython",
    "version": 3
   },
   "file_extension": ".py",
   "mimetype": "text/x-python",
   "name": "python",
   "nbconvert_exporter": "python",
   "pygments_lexer": "ipython3",
   "version": "3.9.15"
  },
  "orig_nbformat": 4,
  "vscode": {
   "interpreter": {
    "hash": "ef5adbc1ce46ca2a68e6163b6915f83e0675c53fd5877a5b059b83c50aa2d112"
   }
  }
 },
 "nbformat": 4,
 "nbformat_minor": 2
}
