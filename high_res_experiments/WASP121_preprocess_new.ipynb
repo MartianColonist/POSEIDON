{
 "cells": [
  {
   "cell_type": "code",
   "execution_count": 1,
   "metadata": {},
   "outputs": [],
   "source": [
    "import os\n",
    "\n",
    "os.environ[\"PYSYN_CDBS\"] = \"/home/ruizhew/POSEIDON/inputs/stellar_grids/\"\n",
    "os.environ[\"POSEIDON_input_data\"] = \"/home/ruizhew/POSEIDON/inputs/\""
   ]
  },
  {
   "cell_type": "code",
   "execution_count": 2,
   "metadata": {},
   "outputs": [
    {
     "name": "stderr",
     "output_type": "stream",
     "text": [
      "/Users/Victini/miniforge3/envs/poseidon_hr/lib/python3.9/site-packages/pysynphot/locations.py:345: UserWarning: Extinction files not found in /home/ruizhew/POSEIDON/inputs/stellar_grids/extinction\n",
      "  warnings.warn('Extinction files not found in %s' % (extdir, ))\n",
      "/Users/Victini/miniforge3/envs/poseidon_hr/lib/python3.9/site-packages/pysynphot/refs.py:117: UserWarning: No graph or component tables found; functionality will be SEVERELY crippled. No files found for /home/ruizhew/POSEIDON/inputs/stellar_grids/mtab/*_tmg.fits\n",
      "  warnings.warn('No graph or component tables found; '\n",
      "/Users/Victini/miniforge3/envs/poseidon_hr/lib/python3.9/site-packages/pysynphot/refs.py:124: UserWarning: No thermal tables found, no thermal calculations can be performed. No files found for /home/ruizhew/POSEIDON/inputs/stellar_grids/mtab/*_tmt.fits\n",
      "  warnings.warn('No thermal tables found, '\n"
     ]
    }
   ],
   "source": [
    "from __future__ import absolute_import, unicode_literals, print_function\n",
    "from POSEIDON.high_res import (\n",
    "    fast_filter,\n",
    "    loglikelihood_sysrem,\n",
    "    get_rot_kernel,\n",
    "    fit_uncertainties,\n",
    "    fit_uncertainties_and_remove_outliers,\n",
    ")\n",
    "import math, os\n",
    "import numpy as np\n",
    "import pickle\n",
    "import pickle\n",
    "from scipy import constants\n",
    "from numba import jit\n",
    "from astropy.io import fits\n",
    "from scipy import interpolate\n",
    "from POSEIDON.core import (\n",
    "    create_star,\n",
    "    create_planet,\n",
    "    define_model,\n",
    "    make_atmosphere,\n",
    "    read_opacities,\n",
    "    wl_grid_constant_R,\n",
    "    wl_grid_line_by_line,\n",
    "    compute_spectrum,\n",
    ")\n",
    "from POSEIDON.constants import R_Sun\n",
    "from POSEIDON.visuals import plot_stellar_flux\n",
    "from POSEIDON.constants import R_J, M_J\n",
    "import numpy as np\n",
    "from spectres import spectres\n",
    "from tqdm import tqdm\n",
    "from multiprocessing import Pool\n",
    "import h5py\n",
    "import matplotlib.pyplot as plt\n",
    "from scipy.ndimage import gaussian_filter1d, median_filter"
   ]
  },
  {
   "cell_type": "code",
   "execution_count": 3,
   "metadata": {},
   "outputs": [],
   "source": [
    "from scipy.optimize import minimize\n",
    "from sklearn.decomposition import TruncatedSVD"
   ]
  },
  {
   "cell_type": "code",
   "execution_count": 4,
   "metadata": {},
   "outputs": [],
   "source": [
    "data = h5py.File(\"./data/WASP-121.h5\", \"a\")"
   ]
  },
  {
   "cell_type": "code",
   "execution_count": 5,
   "metadata": {},
   "outputs": [],
   "source": [
    "# chips = [\"blue\", \"redl\", \"redu\"]\n",
    "\n",
    "# for chip in chips:\n",
    "#     flux = data[chip][\"flux\"][:]\n",
    "#     wl_grid = data[chip][\"wl_grid\"][:]\n",
    "#     N_order, N_phi, N_wl = flux.shape\n",
    "#     if \"flux_blaze_corrected\" in data[chip]:\n",
    "#         continue\n",
    "#     else:\n",
    "#         blaze = np.zeros(flux.shape)\n",
    "#         for k in range(N_order):\n",
    "#             order = flux[k]\n",
    "#             median = np.median(order, axis=0)\n",
    "#             order_norm = order / median\n",
    "#             blaze[k] = order_norm\n",
    "\n",
    "#         for det in range(N_order):\n",
    "#             for phi in range(N_phi):\n",
    "#                 blaze[det][phi] = median_filter(blaze[det][phi], size=501)\n",
    "\n",
    "#         for det in range(N_order):\n",
    "#             for phi in range(N_phi):\n",
    "#                 blaze[det][phi] = gaussian_filter1d(blaze[det][phi], sigma=100)\n",
    "\n",
    "#         flux = flux / blaze\n",
    "\n",
    "#         print(\"Finish blaze correction\")\n",
    "#         data[chip].create_dataset(\"flux_blaze_corrected\", data=flux)\n",
    "\n",
    "#     if (\n",
    "#         \"Bs\" in data[chip]\n",
    "#         and \"residuals\" in data[chip]\n",
    "#         and \"uncertainties\" in data[chip]\n",
    "#     ):\n",
    "#         continue\n",
    "#     else:\n",
    "#         uncertainties = fit_uncertainties(flux)\n",
    "#         print(\"Finish fit uncertainties\")\n",
    "\n",
    "#         for i in range(N_order):\n",
    "#             order = flux[i]\n",
    "#             # out_of_transit_frames = np.concatenate((order[:20], order[-20:]), axis=0)\n",
    "#             median = np.median(order, axis=0)\n",
    "#             order_norm = order / median\n",
    "#             uncertainty = uncertainties[i]\n",
    "\n",
    "#             uncertainty_norm = uncertainty / median\n",
    "\n",
    "#             uncertainties[i] = uncertainty_norm\n",
    "#             flux[i] = order_norm\n",
    "\n",
    "#         residuals, Us = fast_filter(flux, uncertainties, N_iter=15)\n",
    "\n",
    "#         Bs = np.zeros((N_order, N_phi, N_phi))\n",
    "\n",
    "#         for j in range(N_order):\n",
    "#             U = Us[j]\n",
    "#             L = np.diag(1 / np.mean(uncertainties[j], axis=-1))\n",
    "#             B = U @ np.linalg.pinv(L @ U) @ L\n",
    "#             Bs[j] = B\n",
    "\n",
    "#         data[chip].require_dataset(\"residuals\", shape=residuals.shape, dtype=float)\n",
    "#         data[chip][\"residuals\"][:] = residuals\n",
    "#         data[chip].require_dataset(\"Bs\", shape=Bs.shape, dtype=float)\n",
    "#         data[chip][\"Bs\"][:] = Bs\n",
    "#         data[chip].require_dataset(\n",
    "#             \"uncertainties\", shape=uncertainties.shape, dtype=float\n",
    "#         )\n",
    "#         data[chip][\"uncertainties\"][:] = uncertainties"
   ]
  },
  {
   "cell_type": "code",
   "execution_count": 5,
   "metadata": {},
   "outputs": [
    {
     "name": "stdout",
     "output_type": "stream",
     "text": [
      "0.34674688269679577 233.05860530136158\n",
      "0.31301649682054783 259.74873166965057\n",
      "0.3347870272723711 259.3448484750303\n",
      "0.3542486745660366 255.83499019842696\n",
      "0.3363525375066892 262.09302843944545\n",
      "0.36127372956838155 252.9687647883189\n",
      "0.3538895907697627 257.1925104261539\n",
      "0.3490046946331491 257.3246387316229\n",
      "0.3429834689585245 260.8236011457467\n",
      "0.3279206239447458 265.5847958638601\n",
      "0.32447906813031996 264.1914699434165\n",
      "0.33329363771820597 259.99798335008785\n",
      "0.31813650091090706 266.9749165642313\n",
      "0.30377843688499145 270.77128709142664\n",
      "0.29612554360091914 273.52926340596144\n",
      "0.3068598895379319 266.3212063846946\n",
      "0.3064508886205523 265.7644861952833\n",
      "0.27794783592090866 284.67988326243005\n",
      "0.268293317260309 293.0811492625305\n",
      "0.2685706553495375 288.93299219882545\n",
      "0.2709465682703643 288.2778851424328\n",
      "0.27329932082693376 286.2358993500822\n",
      "0.27263271445349874 287.307813158777\n",
      "0.2762483876037293 285.32757424449767\n",
      "0.28355047369380737 275.94899598512234\n",
      "0.2821260581158592 277.16768491053165\n",
      "0.28514695856904454 273.5192112652438\n",
      "0.2729323567912037 280.07036247554646\n",
      "0.27984113222398793 274.49751769450916\n",
      "0.2796195574196145 275.83001688209833\n",
      "3.2907235812779536 246.2011777287008\n",
      "3.011960384064086 268.07923187615387\n",
      "2.3548596389545797 296.2254795153616\n",
      "1.614093723725871 345.0543657286299\n",
      "1.0279849713963347 386.0545368809138\n",
      "0.665607808721239 423.15168160297264\n",
      "0.3872225201507351 461.7647325612952\n",
      "0.34713852200699497 472.029667094063\n",
      "0.28552510893340965 495.309854812902\n",
      "0.2715386064578595 504.1918101745666\n",
      "0.33075295787896886 494.43964215373614\n",
      "0.3139808354250223 498.7159916704489\n",
      "0.3565486917608906 444.9672802009538\n",
      "0.3237042833109789 432.5135370388755\n",
      "0.3529197027600597 418.73211106030953\n",
      "0.3737501096424164 406.6931782463594\n",
      "0.3773280344584942 409.11527875263903\n",
      "0.3847796714936647 402.85567041928596\n",
      "0.3877704422251206 401.2775727153653\n",
      "0.3871473609800057 404.6126464108003\n",
      "0.3874416018012252 404.2940975665165\n",
      "0.3774868353938956 411.26554954038636\n",
      "0.3807785723032189 410.6991569379748\n",
      "0.3901310313154329 405.3113175708929\n",
      "0.3848945044656793 413.5717750518811\n",
      "0.4012740583193838 419.03507836232956\n",
      "0.38546800247450386 901.1061479664695\n",
      "0.3706791593758342 918.3826943136196\n",
      "0.39332319655894593 859.6283325855344\n",
      "0.4019346792660228 881.7244255124298\n",
      "0.3825298485950431 910.5992524978367\n",
      "0.39349878006954475 894.1785176584888\n",
      "0.38829356359889966 862.1598859890521\n",
      "0.39340354816491796 861.7293308682802\n",
      "0.5572684156792913 775.5348326950034\n",
      "0.19902449410856154 1240.6788549892656\n",
      "0.3911660472768485 992.696891423892\n",
      "0.37698188988735437 1057.5244312182447\n",
      "0.393454541195245 1004.8404260467569\n",
      "0.3914348457903747 1035.4604985790916\n",
      "0.40352160005817406 1042.553618596183\n",
      "0.3643748639062552 1152.9153511411419\n",
      "0.3546170572250065 1021.0855801477344\n",
      "0.32486282054973314 1055.9542960660956\n"
     ]
    }
   ],
   "source": [
    "chips = [\"blue\", \"redl\", \"redu\"]\n",
    "\n",
    "for chip in chips:\n",
    "    flux = data[chip][\"flux\"][:]\n",
    "    wl_grid = data[chip][\"wl_grid\"][:]\n",
    "    N_order, N_phi, N_wl = flux.shape\n",
    "    if \"flux_blaze_corrected\" in data[chip]:\n",
    "        flux = data[chip][\"flux_blaze_corrected\"][:]\n",
    "    else:\n",
    "        blaze = np.zeros(flux.shape)\n",
    "        for k in range(N_order):\n",
    "            order = flux[k]\n",
    "            median = np.median(order, axis=0)\n",
    "            order_norm = order / median\n",
    "            blaze[k] = order_norm\n",
    "\n",
    "        for det in range(N_order):\n",
    "            for phi in range(N_phi):\n",
    "                blaze[det][phi] = median_filter(blaze[det][phi], size=15)\n",
    "\n",
    "        for det in range(N_order):\n",
    "            for phi in range(N_phi):\n",
    "                blaze[det][phi] = gaussian_filter1d(blaze[det][phi], sigma=50)\n",
    "\n",
    "        flux = flux / blaze\n",
    "\n",
    "        print(\"Finish blaze correction\")\n",
    "        data[chip].create_dataset(\"flux_blaze_corrected\", data=flux)\n",
    "\n",
    "    uncertainties = fit_uncertainties(flux)\n",
    "\n",
    "    residuals, Us = fast_filter(flux, uncertainties, N_iter=10)\n",
    "\n",
    "    model = flux - residuals\n",
    "\n",
    "    residuals_2020 = flux / model - 1\n",
    "    uncertainties = uncertainties / model\n",
    "\n",
    "    if \"uncertainties\" in data[chip]:\n",
    "        data[chip][\"uncertainties\"][:] = uncertainties\n",
    "    else:\n",
    "        data[chip].create_dataset(\"uncertainties\", data=uncertainties)\n",
    "\n",
    "    data[chip].require_dataset(\n",
    "        \"residuals_2020\", shape=residuals_2020.shape, dtype=float\n",
    "    )\n",
    "    data[chip][\"residuals_2020\"][:] = residuals_2020"
   ]
  },
  {
   "cell_type": "code",
   "execution_count": null,
   "metadata": {},
   "outputs": [],
   "source": [
    "transit_weight = pickle.load(open(\"./data/WASP-121b/transit_weight.pic\", \"rb\"))"
   ]
  },
  {
   "cell_type": "code",
   "execution_count": null,
   "metadata": {},
   "outputs": [],
   "source": [
    "data[\"redu\"].create_dataset(\"transit_weight\", data=transit_weight)"
   ]
  },
  {
   "cell_type": "code",
   "execution_count": null,
   "metadata": {},
   "outputs": [],
   "source": [
    "data[\"redl\"].create_dataset(\"transit_weight\", data=transit_weight)"
   ]
  },
  {
   "cell_type": "code",
   "execution_count": null,
   "metadata": {},
   "outputs": [],
   "source": [
    "data[\"blue\"].create_dataset(\"transit_weight\", data=transit_weight)"
   ]
  },
  {
   "cell_type": "code",
   "execution_count": 6,
   "metadata": {},
   "outputs": [],
   "source": [
    "data.close()"
   ]
  },
  {
   "cell_type": "code",
   "execution_count": null,
   "metadata": {},
   "outputs": [],
   "source": [
    "for key in data.keys():\n",
    "    print(data[key])"
   ]
  },
  {
   "cell_type": "code",
   "execution_count": null,
   "metadata": {},
   "outputs": [],
   "source": [
    "plt.imshow(data[\"redl\"][\"residuals_2020\"][0], aspect=\"auto\", cmap=\"viridis\")"
   ]
  },
  {
   "cell_type": "code",
   "execution_count": null,
   "metadata": {},
   "outputs": [],
   "source": [
    "import pickle\n",
    "\n",
    "Bs, residuals = pickle.load(open(\"./data/WASP-121b/fast_filter.pic\", \"rb\"))\n",
    "uncertainties = pickle.load(open(\"./data/WASP-121b/uncertainties.pic\", \"rb\"))"
   ]
  },
  {
   "cell_type": "code",
   "execution_count": null,
   "metadata": {},
   "outputs": [],
   "source": [
    "plt.imshow(residuals[0], aspect=\"auto\", cmap=\"viridis\")"
   ]
  },
  {
   "cell_type": "code",
   "execution_count": null,
   "metadata": {},
   "outputs": [],
   "source": [
    "plt.plot(data[\"blue\"][\"uncertainties\"][10][0])\n",
    "plt.plot(uncertainties[10][0])\n",
    "plt.xlim(2000, 2400)"
   ]
  },
  {
   "cell_type": "code",
   "execution_count": null,
   "metadata": {},
   "outputs": [],
   "source": [
    "plt.plot(data[\"redl\"][\"residuals_2020\"][4][0])\n",
    "plt.plot(data[\"blue\"][\"residuals\"][20][0])\n",
    "# plt.ylim(-0.1, 0.1)\n",
    "plt.xlim(2000, 2300)"
   ]
  },
  {
   "cell_type": "code",
   "execution_count": null,
   "metadata": {},
   "outputs": [],
   "source": []
  }
 ],
 "metadata": {
  "kernelspec": {
   "display_name": "Python 3",
   "language": "python",
   "name": "python3"
  },
  "language_info": {
   "codemirror_mode": {
    "name": "ipython",
    "version": 3
   },
   "file_extension": ".py",
   "mimetype": "text/x-python",
   "name": "python",
   "nbconvert_exporter": "python",
   "pygments_lexer": "ipython3",
   "version": "3.9.16"
  },
  "orig_nbformat": 4,
  "vscode": {
   "interpreter": {
    "hash": "ef5adbc1ce46ca2a68e6163b6915f83e0675c53fd5877a5b059b83c50aa2d112"
   }
  }
 },
 "nbformat": 4,
 "nbformat_minor": 2
}
