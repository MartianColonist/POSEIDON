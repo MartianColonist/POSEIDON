{
 "cells": [
  {
   "cell_type": "code",
   "execution_count": 6,
   "metadata": {},
   "outputs": [],
   "source": [
    "from POSEIDON.utility import read_high_res_data\n",
    "from POSEIDON.high_res import fit_uncertainties\n",
    "import numpy as np\n",
    "import matplotlib.pyplot as plt\n",
    "import pickle\n",
    "\n",
    "data_dir = \"./data/WASP-76b\"\n",
    "data = read_high_res_data(data_dir, method=\"sysrem\", spectrum_type=\"transmission\")\n",
    "data_raw = data[\"data_raw\"]\n",
    "data_raw[data_raw < 0] = 0\n",
    "Ndet, Nphi, Npix = data_raw.shape\n",
    "wl_grid = data[\"wl_grid\"]"
   ]
  },
  {
   "cell_type": "code",
   "execution_count": null,
   "metadata": {},
   "outputs": [],
   "source": [
    "plt.figure(figsize=(17, 5))\n",
    "plt.imshow(data_raw[0], aspect=\"auto\")"
   ]
  },
  {
   "cell_type": "code",
   "execution_count": null,
   "metadata": {},
   "outputs": [],
   "source": [
    "import pickle\n",
    "\n",
    "output_path = \"./CC_output/WASP-76b/\"  # Could modify output path here.\n",
    "# uncertainties = fit_uncertainties(data_raw, NPC=5)\n",
    "uncertainties = pickle.load(open(data_dir + \"/uncertainties.pic\", \"rb\"))\n",
    "data = read_high_res_data(data_dir, method=\"sysrem\", spectrum_type=\"transmission\")[\n",
    "    \"data_raw\"\n",
    "]"
   ]
  },
  {
   "cell_type": "code",
   "execution_count": null,
   "metadata": {},
   "outputs": [],
   "source": [
    "from POSEIDON.high_res import fast_filter\n",
    "\n",
    "for i in range(len(data)):\n",
    "    order = data[i]\n",
    "\n",
    "    median = np.median(order, axis=0)\n",
    "    median[median == 0] = np.mean(median)\n",
    "    order_norm = order / median\n",
    "\n",
    "    uncertainty = uncertainties[i]\n",
    "\n",
    "    uncertainty_norm = uncertainty / median\n",
    "\n",
    "    uncertainties[i] = uncertainty_norm\n",
    "    data[i] = order_norm\n",
    "\n",
    "residuals, Us = fast_filter(data, uncertainties, Niter=15)"
   ]
  },
  {
   "cell_type": "code",
   "execution_count": null,
   "metadata": {},
   "outputs": [],
   "source": [
    "plt.figure(figsize=(17, 5))\n",
    "plt.imshow(residuals[2], aspect=\"auto\", origin=\"lower\", cmap=\"gray\")\n",
    "plt.savefig(output_path + \"filtered.pdf\", fmt=\"pdf\")"
   ]
  },
  {
   "cell_type": "code",
   "execution_count": null,
   "metadata": {},
   "outputs": [],
   "source": [
    "Bs = np.zeros((Ndet, Nphi, Nphi))\n",
    "\n",
    "for j in range(Ndet):\n",
    "    U = Us[j]\n",
    "    L = np.diag(1 / np.mean(uncertainties[j], axis=-1))\n",
    "    B = U @ np.linalg.pinv(L @ U) @ L\n",
    "    Bs[j] = B"
   ]
  },
  {
   "cell_type": "code",
   "execution_count": null,
   "metadata": {},
   "outputs": [],
   "source": [
    "plt.figure(figsize=(17, 5))\n",
    "plt.plot(wl_grid[10], residuals[10][60])\n",
    "plt.ticklabel_format(useOffset=False)"
   ]
  },
  {
   "cell_type": "code",
   "execution_count": null,
   "metadata": {},
   "outputs": [],
   "source": [
    "pickle.dump([Bs, residuals], open(data_dir + \"/fast_filter.pic\", \"wb\"))"
   ]
  },
  {
   "cell_type": "code",
   "execution_count": null,
   "metadata": {},
   "outputs": [],
   "source": []
  }
 ],
 "metadata": {
  "kernelspec": {
   "display_name": "Python 3",
   "language": "python",
   "name": "python3"
  },
  "language_info": {
   "codemirror_mode": {
    "name": "ipython",
    "version": 3
   },
   "file_extension": ".py",
   "mimetype": "text/x-python",
   "name": "python",
   "nbconvert_exporter": "python",
   "pygments_lexer": "ipython3",
   "version": "3.9.15"
  },
  "orig_nbformat": 4,
  "vscode": {
   "interpreter": {
    "hash": "ef5adbc1ce46ca2a68e6163b6915f83e0675c53fd5877a5b059b83c50aa2d112"
   }
  }
 },
 "nbformat": 4,
 "nbformat_minor": 2
}
