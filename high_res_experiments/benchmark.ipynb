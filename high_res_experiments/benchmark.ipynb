{
 "cells": [
  {
   "cell_type": "code",
   "execution_count": 1,
   "metadata": {},
   "outputs": [],
   "source": [
    "import os\n",
    "\n",
    "os.environ[\"PYSYN_CDBS\"] = \"/home/ruizhew/POSEIDON/inputs/stellar_grids/\"\n",
    "os.environ[\"POSEIDON_input_data\"] = \"/home/ruizhew/POSEIDON/inputs/\""
   ]
  },
  {
   "cell_type": "code",
   "execution_count": 18,
   "metadata": {},
   "outputs": [
    {
     "name": "stdout",
     "output_type": "stream",
     "text": [
      "Free parameters: ['R_p_ref' 'T' 'log_Fe']\n",
      "Reading in cross sections in opacity sampling mode...\n",
      "H2-H2 done\n",
      "H2-He done\n",
      "Fe done\n",
      "Opacity pre-interpolation complete.\n"
     ]
    }
   ],
   "source": [
    "from __future__ import absolute_import, unicode_literals, print_function\n",
    "from POSEIDON.high_res import loglikelihood_sysrem\n",
    "import math, os\n",
    "import numpy as np\n",
    "import pickle\n",
    "import pickle\n",
    "from scipy import constants\n",
    "from numba import jit\n",
    "from astropy.io import fits\n",
    "from scipy import interpolate\n",
    "from POSEIDON.core import (\n",
    "    create_star,\n",
    "    create_planet,\n",
    "    define_model,\n",
    "    make_atmosphere,\n",
    "    read_opacities,\n",
    "    wl_grid_constant_R,\n",
    "    compute_spectrum,\n",
    ")\n",
    "from POSEIDON.constants import R_Sun, R_J, M_J\n",
    "import numpy as np\n",
    "from spectres import spectres\n",
    "from tqdm import tqdm\n",
    "from joblib import Parallel, delayed, dump, load\n",
    "import time\n",
    "from scipy.ndimage import gaussian_filter1d, median_filter\n",
    "from POSEIDON.utility import read_high_res_data\n",
    "\n",
    "# The code below will only be run on one core to get the model spectrum.\n",
    "\n",
    "# data_path = \"./data/WASP-76b-injection-Fe-3/\"\n",
    "# output_path = \"./CC_output/WASP-76b-injection-Fe-3/\"\n",
    "data_path = \"./data/WASP-76b/\"\n",
    "output_path = \"./CC_output/WASP-76b/\"\n",
    "os.makedirs(output_path, exist_ok=True)\n",
    "data = read_high_res_data(data_path, method=\"sysrem\")\n",
    "\n",
    "R_s = 1.756 * R_Sun  # Stellar radius (m)\n",
    "T_s = 6250  # Stellar effective temperature (K)\n",
    "Met_s = 0.23  # Stellar metallicity [log10(Fe/H_star / Fe/H_solar)]\n",
    "log_g_s = 4.13  # Stellar log surface gravity (log10(cm/s^2) by convention)\n",
    "\n",
    "# ***** Define planet properties *****#\n",
    "\n",
    "planet_name = \"WASP-76b\"  # Planet name used for plots, output files etc.\n",
    "\n",
    "R_p = 1.830 * R_J  # Planetary radius (m)\n",
    "M_p = 0.92 * M_J  # Mass of planet (kg)\n",
    "g_p = 10 ** (2.83 - 2)  # Gravitational field of planet (m/s^2)\n",
    "T_eq = 2182  # Equilibrium temperature (K)\n",
    "\n",
    "# Create the planet object\n",
    "planet = create_planet(planet_name, R_p, mass=M_p, gravity=g_p, T_eq=T_eq)\n",
    "\n",
    "# If distance not specified, use fiducial value\n",
    "if planet[\"system_distance\"] is None:\n",
    "    planet[\"system_distance\"] = 1  # This value only used for flux ratios, so it cancels\n",
    "d = planet[\"system_distance\"]\n",
    "\n",
    "# ***** Define model *****#\n",
    "\n",
    "model_name = \"High-res retrieval\"  # Model name used for plots, output files etc.\n",
    "\n",
    "bulk_species = [\"H2\", \"He\"]  # H2 + He comprises the bulk atmosphere\n",
    "param_species = [\"Fe\"]  # H2O, CO as in Brogi & Line\n",
    "\n",
    "# Create the model object\n",
    "# model = define_model(model_name, bulk_species, param_species,\n",
    "#                     PT_profile = 'Madhu', high_res = high_res,\n",
    "#                     high_res_params = high_res_params, R_p_ref_enabled=False)\n",
    "\n",
    "model = define_model(model_name, bulk_species, param_species, PT_profile=\"isotherm\")\n",
    "\n",
    "# Check the free parameters defining this model\n",
    "print(\"Free parameters: \" + str(model[\"param_names\"]))\n",
    "\n",
    "# ***** Wavelength grid *****#\n",
    "\n",
    "wl_min = 0.37  # Minimum wavelength (um)\n",
    "wl_max = 1.05  # Maximum wavelength (um)\n",
    "R = 200000  # Spectral resolution of grid\n",
    "model[\"R\"] = R\n",
    "model[\"R_instrument\"] = 66000  # Resolution of instrument\n",
    "\n",
    "wl = wl_grid_constant_R(wl_min, wl_max, R)\n",
    "\n",
    "# Create the stellar object\n",
    "star = create_star(R_s, T_s, log_g_s, Met_s, stellar_grid=\"phoenix\")\n",
    "\n",
    "data = read_high_res_data(data_path, method=\"sysrem\", spectrum_type=\"transmission\")\n",
    "\n",
    "# ***** Read opacity data *****#\n",
    "\n",
    "opacity_treatment = \"opacity_sampling\"\n",
    "\n",
    "# Define fine temperature grid (K)\n",
    "T_fine_min = 2800  # 400 K lower limit suffices for a typical hot Jupiter\n",
    "T_fine_max = 3200  # 2000 K upper limit suffices for a typical hot Jupiter\n",
    "T_fine_step = 20  # 20 K steps are a good tradeoff between accuracy and RAM\n",
    "\n",
    "T_fine = np.arange(T_fine_min, (T_fine_max + T_fine_step), T_fine_step)\n",
    "\n",
    "# Define fine pressure grid (log10(P/bar))\n",
    "log_P_fine_min = -6.0  # 1 ubar is the lowest pressure in the opacity database\n",
    "log_P_fine_max = 2.5  # 100 bar is the highest pressure in the opacity database\n",
    "log_P_fine_step = 0.2  # 0.2 dex steps are a good tradeoff between accuracy and RAM\n",
    "\n",
    "log_P_fine = np.arange(\n",
    "    log_P_fine_min, (log_P_fine_max + log_P_fine_step), log_P_fine_step\n",
    ")\n",
    "\n",
    "# Now we can pre-interpolate the sampled opacities (may take up to a minute)\n",
    "opac = read_opacities(model, wl, opacity_treatment, T_fine, log_P_fine)\n",
    "\n",
    "# Specify the pressure grid of the atmosphere\n",
    "P_min = 1.0e-12  # 0.1 ubar\n",
    "P_max = 100  # 100 bar\n",
    "N_layers = 100  # 100 layers\n",
    "\n",
    "# We'll space the layers uniformly in log-pressure\n",
    "P = np.logspace(np.log10(P_max), np.log10(P_min), N_layers)\n",
    "\n",
    "# Specify the reference pressure and radius\n",
    "P_ref = 1e-2  # Reference pressure (bar)\n",
    "R_p_ref = R_p  # Radius at reference pressure\n",
    "\n",
    "params = (-3, 3000)\n",
    "log_Fe, T = params\n",
    "\n",
    "# Provide a specific set of model parameters for the atmosphere\n",
    "PT_params = np.array([T])  # a1, a2, log_P1, log_P2, log_P3, T_deep\n",
    "log_X_params = np.array([[log_Fe]])\n",
    "\n",
    "atmosphere = make_atmosphere(planet, model, P, P_ref, R_p_ref, PT_params, log_X_params)\n",
    "\n",
    "# Generate planet surface flux\n",
    "spectrum = compute_spectrum(\n",
    "    planet, star, model, atmosphere, opac, wl, spectrum_type=\"transmission\"\n",
    ")"
   ]
  },
  {
   "cell_type": "code",
   "execution_count": 19,
   "metadata": {},
   "outputs": [
    {
     "name": "stdout",
     "output_type": "stream",
     "text": [
      "1.23 s ± 75.7 ms per loop (mean ± std. dev. of 7 runs, 1 loop each)\n"
     ]
    }
   ],
   "source": [
    "%timeit spectrum = compute_spectrum(planet, star, model, atmosphere, opac, wl, spectrum_type=\"transmission\")"
   ]
  },
  {
   "cell_type": "code",
   "execution_count": 15,
   "metadata": {},
   "outputs": [
    {
     "data": {
      "text/plain": [
       "1.5916595458984375"
      ]
     },
     "execution_count": 15,
     "metadata": {},
     "output_type": "execute_result"
    }
   ],
   "source": [
    "import sys\n",
    "\n",
    "sys.getsizeof(spectrum) / 1024 / 1024"
   ]
  },
  {
   "cell_type": "code",
   "execution_count": 10,
   "metadata": {},
   "outputs": [
    {
     "name": "stdout",
     "output_type": "stream",
     "text": [
      "1.9 s ± 84.2 ms per loop (mean ± std. dev. of 7 runs, 1 loop each)\n"
     ]
    }
   ],
   "source": [
    "from POSEIDON.high_res import loglikelihood_sysrem\n",
    "%timeit loglikelihood_sysrem(0, 200, 0, 4.5, 1, wl, spectrum, data)"
   ]
  },
  {
   "cell_type": "code",
   "execution_count": 16,
   "metadata": {},
   "outputs": [
    {
     "name": "stdout",
     "output_type": "stream",
     "text": [
      "Free parameters: ['R_p_ref' 'a1' 'a2' 'log_P1' 'log_P2' 'log_P3' 'T_ref' 'log_Fe']\n",
      "Reading in cross sections in opacity sampling mode...\n",
      "H2-H2 done\n",
      "H2-He done\n",
      "Fe done\n",
      "Opacity pre-interpolation complete.\n"
     ]
    }
   ],
   "source": [
    "R_s = 1.458 * R_Sun  # Stellar radius (m)\n",
    "T_s = 6776  # Stellar effectsive temperature (K)\n",
    "Met_s = 0.13  # Stellar metallicity [log10(Fe/H_star / Fe/H_solar)]\n",
    "log_g_s = 4.24  # Stellar log surface gravity (log10(cm/s^2) by convention)\n",
    "\n",
    "# Create the stellar object\n",
    "star = create_star(R_s, T_s, log_g_s, Met_s, stellar_grid=\"phoenix\")\n",
    "\n",
    "F_s = star[\"F_star\"]\n",
    "wl_s = star[\"wl_star\"]\n",
    "R_s = star[\"R_s\"]\n",
    "\n",
    "# ***** Define planet properties *****#\n",
    "\n",
    "planet_name = \"WASP-121b\"  # Planet name used for plots, output files etc.\n",
    "\n",
    "R_p = 1.753 * R_J  # Planetary radius (m)\n",
    "M_p = 1.157 * M_J  # Mass of planet (kg)\n",
    "g_p = 10 ** (2.97 - 2)  # Gravitational field of planet (m/s^2)\n",
    "T_eq = 2450  # Equilibrium temperature (K)\n",
    "\n",
    "# Create the planet object\n",
    "planet = create_planet(planet_name, R_p, mass=M_p, gravity=g_p, T_eq=T_eq)\n",
    "\n",
    "# If distance not specified, use fiducial value\n",
    "if planet[\"system_distance\"] is None:\n",
    "    planet[\"system_distance\"] = 1  # This value only used for flux ratios, so it cancels\n",
    "d = planet[\"system_distance\"]\n",
    "\n",
    "# ***** Define model *****#\n",
    "\n",
    "model_name = \"High-res retrieval\"  # Model name used for plots, output files etc.\n",
    "\n",
    "bulk_species = [\"H2\", \"He\"]  # H2 + He comprises the bulk atmosphere\n",
    "param_species = [\"Fe\"]  # H2O, CO as in Brogi & Line\n",
    "\n",
    "# Create the model object\n",
    "model = define_model(model_name, bulk_species, param_species, PT_profile=\"Madhu\")\n",
    "\n",
    "# Check the free parameters defining this model\n",
    "print(\"Free parameters: \" + str(model[\"param_names\"]))\n",
    "\n",
    "# ***** Wavelength grid *****#\n",
    "\n",
    "wl_min = 0.37  # Minimum wavelength (um)\n",
    "wl_max = 0.51  # Maximum wavelength (um)\n",
    "R = 200000  # Spectral resolution of grid\n",
    "\n",
    "# wl = wl_grid_line_by_line(wl_min, wl_max)\n",
    "wl = wl_grid_constant_R(wl_min, wl_max, R)\n",
    "# ***** Read opacity data *****#\n",
    "\n",
    "opacity_treatment = \"opacity_sampling\"\n",
    "\n",
    "# Define fine temperature grid (K)\n",
    "T_fine_min = 2000  # 400 K lower limit suffices for a typical hot Jupiter\n",
    "T_fine_max = 4500  # 2000 K upper limit suffices for a typical hot Jupiter\n",
    "T_fine_step = 20  # 20 K steps are a good tradeoff between accuracy and RAM\n",
    "\n",
    "T_fine = np.arange(T_fine_min, (T_fine_max + T_fine_step), T_fine_step)\n",
    "\n",
    "# Define fine pressure grid (log10(P/bar))\n",
    "log_P_fine_min = -6.0  # 1 ubar is the lowest pressure in the opacity database\n",
    "log_P_fine_max = 2.5  # 100 bar is the highest pressure in the opacity database\n",
    "log_P_fine_step = 0.2  # 0.2 dex steps are a good tradeoff between accuracy and RAM\n",
    "\n",
    "log_P_fine = np.arange(\n",
    "    log_P_fine_min, (log_P_fine_max + log_P_fine_step), log_P_fine_step\n",
    ")\n",
    "\n",
    "# Now we can pre-interpolate the sampled opacities (may take up to a minute)\n",
    "opac = read_opacities(model, wl, opacity_treatment, T_fine, log_P_fine)\n",
    "\n",
    "# Specify the pressure grid of the atmosphere\n",
    "P_min = 1.0e-9  # 0.1 ubar\n",
    "P_max = 100  # 100 bar\n",
    "N_layers = 100  # 100 layers\n",
    "\n",
    "# We'll space the layers uniformly in log-pressure\n",
    "P = np.logspace(np.log10(P_max), np.log10(P_min), N_layers)\n",
    "\n",
    "# Specify the reference pressure and radius\n",
    "P_ref = 1e-5  # Reference pressure (bar)\n",
    "R_p_ref = R_p  # Radius at reference pressure\n",
    "\n",
    "params = (-3, 2, 1, -2.5, -1.5, 1, 3000)\n",
    "log_Fe, a1, a2, log_P1, log_P2, log_P3, T_ref = params\n",
    "\n",
    "# Provide a specific set of model parameters for the atmosphere\n",
    "PT_params = np.array(\n",
    "    [a1, a2, log_P1, log_P2, log_P3, T_ref]\n",
    ")  # a1, a2, log_P1, log_P2, log_P3, T_deep\n",
    "log_X_params = np.array([[log_Fe]])\n",
    "\n",
    "atmosphere = make_atmosphere(planet, model, P, P_ref, R_p_ref, PT_params, log_X_params)\n",
    "\n",
    "# Generate planet surface flux\n",
    "spectrum = compute_spectrum(\n",
    "    planet, star, model, atmosphere, opac, wl, spectrum_type=\"transmission\"\n",
    ")"
   ]
  },
  {
   "cell_type": "code",
   "execution_count": 7,
   "metadata": {},
   "outputs": [
    {
     "name": "stdout",
     "output_type": "stream",
     "text": [
      "1.34 s ± 64.7 ms per loop (mean ± std. dev. of 7 runs, 1 loop each)\n"
     ]
    }
   ],
   "source": [
    "from POSEIDON.high_res import loglikelihood_sysrem\n",
    "%timeit loglikelihood_sysrem(0, 200, 0, 4.5, 1, wl, spectrum, data)"
   ]
  },
  {
   "cell_type": "code",
   "execution_count": 20,
   "metadata": {},
   "outputs": [
    {
     "data": {
      "text/plain": [
       "1.5916595458984375"
      ]
     },
     "execution_count": 20,
     "metadata": {},
     "output_type": "execute_result"
    },
    {
     "ename": "",
     "evalue": "",
     "output_type": "error",
     "traceback": [
      "\u001b[1;31mThe Kernel crashed while executing code in the the current cell or a previous cell. Please review the code in the cell(s) to identify a possible cause of the failure. Click <a href='https://aka.ms/vscodeJupyterKernelCrash'>here</a> for more info. View Jupyter <a href='command:jupyter.viewOutput'>log</a> for further details."
     ]
    }
   ],
   "source": [
    "import sys\n",
    "\n",
    "sys.getsizeof(spectrum) / 1024 / 1024"
   ]
  },
  {
   "cell_type": "code",
   "execution_count": null,
   "metadata": {},
   "outputs": [],
   "source": []
  }
 ],
 "metadata": {
  "kernelspec": {
   "display_name": "poseidon",
   "language": "python",
   "name": "python3"
  },
  "language_info": {
   "codemirror_mode": {
    "name": "ipython",
    "version": 3
   },
   "file_extension": ".py",
   "mimetype": "text/x-python",
   "name": "python",
   "nbconvert_exporter": "python",
   "pygments_lexer": "ipython3",
   "version": "3.9.15"
  },
  "orig_nbformat": 4
 },
 "nbformat": 4,
 "nbformat_minor": 2
}
